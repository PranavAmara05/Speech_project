{
  "nbformat": 4,
  "nbformat_minor": 0,
  "metadata": {
    "colab": {
      "provenance": []
    },
    "kernelspec": {
      "name": "python3",
      "display_name": "Python 3"
    },
    "language_info": {
      "name": "python"
    }
  },
  "cells": [
    {
      "cell_type": "markdown",
      "source": [
        "**Model Development**"
      ],
      "metadata": {
        "id": "L0pxabSYtKBk"
      }
    },
    {
      "cell_type": "markdown",
      "source": [
        "**Multi - Layer Perceptron (MLP)**"
      ],
      "metadata": {
        "id": "qx3ZMoe_tSjB"
      }
    },
    {
      "cell_type": "code",
      "source": [
        "import pandas as pd\n",
        "import numpy as np\n",
        "from sklearn.model_selection import train_test_split\n",
        "from sklearn.preprocessing import LabelEncoder, StandardScaler\n",
        "from sklearn.metrics import classification_report\n",
        "from tensorflow.keras.models import Sequential\n",
        "from tensorflow.keras.layers import Dense, Dropout\n",
        "from tensorflow.keras.utils import to_categorical\n",
        "\n",
        "# === Load dataset ===\n",
        "df = pd.read_csv(\"/content/xyz.csv\")  # Ensure 'xyz.csv' has features + label column\n",
        "\n",
        "# === Split features and labels ===\n",
        "X = df.iloc[:, :-1].values\n",
        "y = df.iloc[:, -1].values\n",
        "\n",
        "# === Encode class labels ===\n",
        "le = LabelEncoder()\n",
        "y_encoded = le.fit_transform(y)\n",
        "y_cat = to_categorical(y_encoded)\n",
        "\n",
        "# === Split into training and testing sets (80-20) ===\n",
        "X_train, X_test, y_train_cat, y_test_cat = train_test_split(\n",
        "    X, y_cat, test_size=0.2, random_state=42, stratify=y_cat\n",
        ")\n",
        "\n",
        "# === Standardize features ===\n",
        "scaler = StandardScaler()\n",
        "X_train_scaled = scaler.fit_transform(X_train)\n",
        "X_test_scaled = scaler.transform(X_test)\n",
        "\n",
        "# === Build model ===\n",
        "model = Sequential([\n",
        "    Dense(128, activation='relu', input_shape=(X_train_scaled.shape[1],)),\n",
        "    Dropout(0.3),\n",
        "    Dense(64, activation='relu'),\n",
        "    Dropout(0.3),\n",
        "    Dense(y_train_cat.shape[1], activation='softmax')\n",
        "])\n",
        "\n",
        "model.compile(optimizer='adam', loss='categorical_crossentropy', metrics=['accuracy'])\n",
        "\n",
        "# === Train model ===\n",
        "history = model.fit(\n",
        "    X_train_scaled, y_train_cat,\n",
        "    epochs=30, batch_size=32,\n",
        "    validation_split=0.1,\n",
        "    verbose=1\n",
        ")\n",
        "\n",
        "# === Evaluate and report on training data ===\n",
        "print(\"\\nEvaluating on training data:\")\n",
        "y_train_pred = model.predict(X_train_scaled)\n",
        "y_train_pred_labels = np.argmax(y_train_pred, axis=1)\n",
        "y_train_true_labels = np.argmax(y_train_cat, axis=1)\n",
        "print(classification_report(y_train_true_labels, y_train_pred_labels, target_names=le.classes_))\n",
        "\n",
        "# === Evaluate and report on testing data ===\n",
        "print(\"\\nEvaluating on testing data:\")\n",
        "y_test_pred = model.predict(X_test_scaled)\n",
        "y_test_pred_labels = np.argmax(y_test_pred, axis=1)\n",
        "y_test_true_labels = np.argmax(y_test_cat, axis=1)\n",
        "print(classification_report(y_test_true_labels, y_test_pred_labels, target_names=le.classes_))"
      ],
      "metadata": {
        "colab": {
          "base_uri": "https://localhost:8080/"
        },
        "id": "cpjiaiRLcNto",
        "outputId": "2fad3d34-c028-4781-ec5e-362eaf34c99a"
      },
      "execution_count": null,
      "outputs": [
        {
          "output_type": "stream",
          "name": "stderr",
          "text": [
            "/usr/local/lib/python3.11/dist-packages/keras/src/layers/core/dense.py:87: UserWarning: Do not pass an `input_shape`/`input_dim` argument to a layer. When using Sequential models, prefer using an `Input(shape)` object as the first layer in the model instead.\n",
            "  super().__init__(activity_regularizer=activity_regularizer, **kwargs)\n"
          ]
        },
        {
          "output_type": "stream",
          "name": "stdout",
          "text": [
            "Epoch 1/30\n",
            "\u001b[1m11/11\u001b[0m \u001b[32m━━━━━━━━━━━━━━━━━━━━\u001b[0m\u001b[37m\u001b[0m \u001b[1m4s\u001b[0m 77ms/step - accuracy: 0.2266 - loss: 2.3137 - val_accuracy: 0.2162 - val_loss: 1.8254\n",
            "Epoch 2/30\n",
            "\u001b[1m11/11\u001b[0m \u001b[32m━━━━━━━━━━━━━━━━━━━━\u001b[0m\u001b[37m\u001b[0m \u001b[1m1s\u001b[0m 26ms/step - accuracy: 0.4428 - loss: 1.3956 - val_accuracy: 0.2432 - val_loss: 1.8376\n",
            "Epoch 3/30\n",
            "\u001b[1m11/11\u001b[0m \u001b[32m━━━━━━━━━━━━━━━━━━━━\u001b[0m\u001b[37m\u001b[0m \u001b[1m1s\u001b[0m 45ms/step - accuracy: 0.6130 - loss: 1.0652 - val_accuracy: 0.2432 - val_loss: 1.8269\n",
            "Epoch 4/30\n",
            "\u001b[1m11/11\u001b[0m \u001b[32m━━━━━━━━━━━━━━━━━━━━\u001b[0m\u001b[37m\u001b[0m \u001b[1m1s\u001b[0m 67ms/step - accuracy: 0.6846 - loss: 0.8193 - val_accuracy: 0.2973 - val_loss: 1.9421\n",
            "Epoch 5/30\n",
            "\u001b[1m11/11\u001b[0m \u001b[32m━━━━━━━━━━━━━━━━━━━━\u001b[0m\u001b[37m\u001b[0m \u001b[1m1s\u001b[0m 54ms/step - accuracy: 0.8028 - loss: 0.6112 - val_accuracy: 0.2973 - val_loss: 2.0541\n",
            "Epoch 6/30\n",
            "\u001b[1m11/11\u001b[0m \u001b[32m━━━━━━━━━━━━━━━━━━━━\u001b[0m\u001b[37m\u001b[0m \u001b[1m1s\u001b[0m 72ms/step - accuracy: 0.8235 - loss: 0.4862 - val_accuracy: 0.2703 - val_loss: 2.0471\n",
            "Epoch 7/30\n",
            "\u001b[1m11/11\u001b[0m \u001b[32m━━━━━━━━━━━━━━━━━━━━\u001b[0m\u001b[37m\u001b[0m \u001b[1m1s\u001b[0m 63ms/step - accuracy: 0.8790 - loss: 0.3867 - val_accuracy: 0.2973 - val_loss: 2.1768\n",
            "Epoch 8/30\n",
            "\u001b[1m11/11\u001b[0m \u001b[32m━━━━━━━━━━━━━━━━━━━━\u001b[0m\u001b[37m\u001b[0m \u001b[1m0s\u001b[0m 27ms/step - accuracy: 0.8895 - loss: 0.3480 - val_accuracy: 0.2703 - val_loss: 2.1314\n",
            "Epoch 9/30\n",
            "\u001b[1m11/11\u001b[0m \u001b[32m━━━━━━━━━━━━━━━━━━━━\u001b[0m\u001b[37m\u001b[0m \u001b[1m1s\u001b[0m 30ms/step - accuracy: 0.9045 - loss: 0.3104 - val_accuracy: 0.2432 - val_loss: 2.2982\n",
            "Epoch 10/30\n",
            "\u001b[1m11/11\u001b[0m \u001b[32m━━━━━━━━━━━━━━━━━━━━\u001b[0m\u001b[37m\u001b[0m \u001b[1m0s\u001b[0m 26ms/step - accuracy: 0.9094 - loss: 0.2415 - val_accuracy: 0.2703 - val_loss: 2.2947\n",
            "Epoch 11/30\n",
            "\u001b[1m11/11\u001b[0m \u001b[32m━━━━━━━━━━━━━━━━━━━━\u001b[0m\u001b[37m\u001b[0m \u001b[1m0s\u001b[0m 33ms/step - accuracy: 0.9351 - loss: 0.2359 - val_accuracy: 0.2432 - val_loss: 2.3487\n",
            "Epoch 12/30\n",
            "\u001b[1m11/11\u001b[0m \u001b[32m━━━━━━━━━━━━━━━━━━━━\u001b[0m\u001b[37m\u001b[0m \u001b[1m1s\u001b[0m 54ms/step - accuracy: 0.9654 - loss: 0.1675 - val_accuracy: 0.2703 - val_loss: 2.4721\n",
            "Epoch 13/30\n",
            "\u001b[1m11/11\u001b[0m \u001b[32m━━━━━━━━━━━━━━━━━━━━\u001b[0m\u001b[37m\u001b[0m \u001b[1m0s\u001b[0m 27ms/step - accuracy: 0.9604 - loss: 0.1854 - val_accuracy: 0.2432 - val_loss: 2.5707\n",
            "Epoch 14/30\n",
            "\u001b[1m11/11\u001b[0m \u001b[32m━━━━━━━━━━━━━━━━━━━━\u001b[0m\u001b[37m\u001b[0m \u001b[1m0s\u001b[0m 31ms/step - accuracy: 0.9694 - loss: 0.1221 - val_accuracy: 0.2703 - val_loss: 2.7525\n",
            "Epoch 15/30\n",
            "\u001b[1m11/11\u001b[0m \u001b[32m━━━━━━━━━━━━━━━━━━━━\u001b[0m\u001b[37m\u001b[0m \u001b[1m1s\u001b[0m 28ms/step - accuracy: 0.9534 - loss: 0.1210 - val_accuracy: 0.2432 - val_loss: 2.8635\n",
            "Epoch 16/30\n",
            "\u001b[1m11/11\u001b[0m \u001b[32m━━━━━━━━━━━━━━━━━━━━\u001b[0m\u001b[37m\u001b[0m \u001b[1m1s\u001b[0m 30ms/step - accuracy: 0.9694 - loss: 0.1267 - val_accuracy: 0.2703 - val_loss: 2.8864\n",
            "Epoch 17/30\n",
            "\u001b[1m11/11\u001b[0m \u001b[32m━━━━━━━━━━━━━━━━━━━━\u001b[0m\u001b[37m\u001b[0m \u001b[1m1s\u001b[0m 26ms/step - accuracy: 0.9821 - loss: 0.1098 - val_accuracy: 0.2432 - val_loss: 2.9286\n",
            "Epoch 18/30\n",
            "\u001b[1m11/11\u001b[0m \u001b[32m━━━━━━━━━━━━━━━━━━━━\u001b[0m\u001b[37m\u001b[0m \u001b[1m1s\u001b[0m 30ms/step - accuracy: 0.9700 - loss: 0.1077 - val_accuracy: 0.2703 - val_loss: 2.9866\n",
            "Epoch 19/30\n",
            "\u001b[1m11/11\u001b[0m \u001b[32m━━━━━━━━━━━━━━━━━━━━\u001b[0m\u001b[37m\u001b[0m \u001b[1m1s\u001b[0m 25ms/step - accuracy: 0.9777 - loss: 0.1009 - val_accuracy: 0.2703 - val_loss: 2.9841\n",
            "Epoch 20/30\n",
            "\u001b[1m11/11\u001b[0m \u001b[32m━━━━━━━━━━━━━━━━━━━━\u001b[0m\u001b[37m\u001b[0m \u001b[1m0s\u001b[0m 13ms/step - accuracy: 0.9874 - loss: 0.0794 - val_accuracy: 0.2703 - val_loss: 3.0574\n",
            "Epoch 21/30\n",
            "\u001b[1m11/11\u001b[0m \u001b[32m━━━━━━━━━━━━━━━━━━━━\u001b[0m\u001b[37m\u001b[0m \u001b[1m0s\u001b[0m 13ms/step - accuracy: 0.9685 - loss: 0.0779 - val_accuracy: 0.2432 - val_loss: 3.1901\n",
            "Epoch 22/30\n",
            "\u001b[1m11/11\u001b[0m \u001b[32m━━━━━━━━━━━━━━━━━━━━\u001b[0m\u001b[37m\u001b[0m \u001b[1m0s\u001b[0m 12ms/step - accuracy: 0.9854 - loss: 0.0805 - val_accuracy: 0.2162 - val_loss: 3.1258\n",
            "Epoch 23/30\n",
            "\u001b[1m11/11\u001b[0m \u001b[32m━━━━━━━━━━━━━━━━━━━━\u001b[0m\u001b[37m\u001b[0m \u001b[1m0s\u001b[0m 18ms/step - accuracy: 0.9731 - loss: 0.0688 - val_accuracy: 0.2432 - val_loss: 3.2272\n",
            "Epoch 24/30\n",
            "\u001b[1m11/11\u001b[0m \u001b[32m━━━━━━━━━━━━━━━━━━━━\u001b[0m\u001b[37m\u001b[0m \u001b[1m0s\u001b[0m 13ms/step - accuracy: 0.9828 - loss: 0.0556 - val_accuracy: 0.2432 - val_loss: 3.2957\n",
            "Epoch 25/30\n",
            "\u001b[1m11/11\u001b[0m \u001b[32m━━━━━━━━━━━━━━━━━━━━\u001b[0m\u001b[37m\u001b[0m \u001b[1m0s\u001b[0m 13ms/step - accuracy: 0.9966 - loss: 0.0326 - val_accuracy: 0.2432 - val_loss: 3.4371\n",
            "Epoch 26/30\n",
            "\u001b[1m11/11\u001b[0m \u001b[32m━━━━━━━━━━━━━━━━━━━━\u001b[0m\u001b[37m\u001b[0m \u001b[1m0s\u001b[0m 15ms/step - accuracy: 0.9777 - loss: 0.0834 - val_accuracy: 0.2432 - val_loss: 3.5230\n",
            "Epoch 27/30\n",
            "\u001b[1m11/11\u001b[0m \u001b[32m━━━━━━━━━━━━━━━━━━━━\u001b[0m\u001b[37m\u001b[0m \u001b[1m0s\u001b[0m 13ms/step - accuracy: 0.9667 - loss: 0.0822 - val_accuracy: 0.2703 - val_loss: 3.4482\n",
            "Epoch 28/30\n",
            "\u001b[1m11/11\u001b[0m \u001b[32m━━━━━━━━━━━━━━━━━━━━\u001b[0m\u001b[37m\u001b[0m \u001b[1m0s\u001b[0m 13ms/step - accuracy: 0.9865 - loss: 0.0527 - val_accuracy: 0.2973 - val_loss: 3.5213\n",
            "Epoch 29/30\n",
            "\u001b[1m11/11\u001b[0m \u001b[32m━━━━━━━━━━━━━━━━━━━━\u001b[0m\u001b[37m\u001b[0m \u001b[1m0s\u001b[0m 17ms/step - accuracy: 1.0000 - loss: 0.0179 - val_accuracy: 0.2973 - val_loss: 3.5929\n",
            "Epoch 30/30\n",
            "\u001b[1m11/11\u001b[0m \u001b[32m━━━━━━━━━━━━━━━━━━━━\u001b[0m\u001b[37m\u001b[0m \u001b[1m0s\u001b[0m 13ms/step - accuracy: 0.9794 - loss: 0.0758 - val_accuracy: 0.3243 - val_loss: 3.6547\n",
            "\n",
            "Evaluating on training data:\n",
            "\u001b[1m12/12\u001b[0m \u001b[32m━━━━━━━━━━━━━━━━━━━━\u001b[0m\u001b[37m\u001b[0m \u001b[1m0s\u001b[0m 8ms/step\n",
            "              precision    recall  f1-score   support\n",
            "\n",
            "       angry       0.95      0.94      0.94        77\n",
            "       happy       0.97      0.87      0.92        75\n",
            "     nuetral       0.90      0.95      0.92        82\n",
            "         sad       0.91      0.97      0.94        62\n",
            "    suprised       0.94      0.94      0.94        68\n",
            "\n",
            "    accuracy                           0.93       364\n",
            "   macro avg       0.93      0.93      0.93       364\n",
            "weighted avg       0.93      0.93      0.93       364\n",
            "\n",
            "\n",
            "Evaluating on testing data:\n",
            "\u001b[1m3/3\u001b[0m \u001b[32m━━━━━━━━━━━━━━━━━━━━\u001b[0m\u001b[37m\u001b[0m \u001b[1m0s\u001b[0m 13ms/step\n",
            "              precision    recall  f1-score   support\n",
            "\n",
            "       angry       0.33      0.26      0.29        19\n",
            "       happy       0.12      0.11      0.11        19\n",
            "     nuetral       0.22      0.29      0.25        21\n",
            "         sad       0.22      0.25      0.24        16\n",
            "    suprised       0.50      0.47      0.48        17\n",
            "\n",
            "    accuracy                           0.27        92\n",
            "   macro avg       0.28      0.27      0.28        92\n",
            "weighted avg       0.28      0.27      0.27        92\n",
            "\n"
          ]
        }
      ]
    },
    {
      "cell_type": "code",
      "source": [
        "from google.colab import drive\n",
        "drive.mount('/content/drive')"
      ],
      "metadata": {
        "colab": {
          "base_uri": "https://localhost:8080/"
        },
        "id": "RjzohNP91km1",
        "outputId": "7837a6e5-18cd-46be-dfd4-aefd8d22aac5"
      },
      "execution_count": null,
      "outputs": [
        {
          "output_type": "stream",
          "name": "stdout",
          "text": [
            "Drive already mounted at /content/drive; to attempt to forcibly remount, call drive.mount(\"/content/drive\", force_remount=True).\n"
          ]
        }
      ]
    },
    {
      "cell_type": "markdown",
      "source": [
        "**Multi - Layer Perceptron (MLP) after preventing Overfitting**"
      ],
      "metadata": {
        "id": "uOpPwexVtbUM"
      }
    },
    {
      "cell_type": "code",
      "source": [
        "import pandas as pd\n",
        "import numpy as np\n",
        "from sklearn.model_selection import train_test_split, StratifiedKFold\n",
        "from sklearn.preprocessing import LabelEncoder, StandardScaler\n",
        "from sklearn.metrics import classification_report\n",
        "from tensorflow.keras.models import Sequential\n",
        "from tensorflow.keras.layers import Dense, Dropout\n",
        "from tensorflow.keras.utils import to_categorical\n",
        "from tensorflow.keras.callbacks import EarlyStopping\n",
        "from sklearn.utils.class_weight import compute_class_weight\n",
        "\n",
        "# === Load dataset ===\n",
        "df = pd.read_csv('xyz.csv')  # Ensure 'xyz.csv' has features + label column\n",
        "\n",
        "# === Split features and labels ===\n",
        "X = df.iloc[:, :-1].values\n",
        "y = df.iloc[:, -1].values\n",
        "\n",
        "# === Encode class labels ===\n",
        "le = LabelEncoder()\n",
        "y_encoded = le.fit_transform(y)\n",
        "y_cat = to_categorical(y_encoded)\n",
        "\n",
        "# === Standardize features ===\n",
        "scaler = StandardScaler()\n",
        "X_scaled = scaler.fit_transform(X)\n",
        "\n",
        "# === Compute class weights for imbalanced data ===\n",
        "class_weights = compute_class_weight('balanced', classes=np.unique(y_encoded), y=y_encoded)\n",
        "class_weight_dict = {i: class_weights[i] for i in range(len(class_weights))}\n",
        "\n",
        "# === Define model function ===\n",
        "def create_model(input_dim, num_classes):\n",
        "    model = Sequential([\n",
        "        Dense(128, activation='relu', input_shape=(input_dim,)),\n",
        "        Dropout(0.3),\n",
        "        Dense(64, activation='relu'),\n",
        "        Dropout(0.3),\n",
        "        Dense(num_classes, activation='softmax')\n",
        "    ])\n",
        "    model.compile(optimizer='adam', loss='categorical_crossentropy', metrics=['accuracy'])\n",
        "    return model\n",
        "\n",
        "# === Cross-validation ===\n",
        "kf = StratifiedKFold(n_splits=5, shuffle=True, random_state=42)\n",
        "val_reports = []\n",
        "\n",
        "for train_index, val_index in kf.split(X_scaled, y_encoded):\n",
        "    X_train, X_val = X_scaled[train_index], X_scaled[val_index]\n",
        "    y_train, y_val = y_cat[train_index], y_cat[val_index]\n",
        "\n",
        "    # === Early Stopping ===\n",
        "    early_stopping = EarlyStopping(monitor='val_loss', patience=5, restore_best_weights=True)\n",
        "\n",
        "    # === Create and train model ===\n",
        "    model = create_model(X_train.shape[1], y_train.shape[1])\n",
        "    history = model.fit(\n",
        "        X_train, y_train,\n",
        "        epochs=30, batch_size=32,\n",
        "        validation_data=(X_val, y_val),\n",
        "        class_weight=class_weight_dict,\n",
        "        callbacks=[early_stopping],\n",
        "        verbose=1\n",
        "    )\n",
        "\n",
        "    # === Evaluate model on validation set ===\n",
        "    val_pred = model.predict(X_val)\n",
        "    val_pred_labels = np.argmax(val_pred, axis=1)\n",
        "    val_true_labels = np.argmax(y_val, axis=1)\n",
        "    val_report = classification_report(val_true_labels, val_pred_labels, target_names=le.classes_)\n",
        "    val_reports.append(val_report)\n",
        "\n",
        "# === Print average classification report from cross-validation ===\n",
        "print(\"\\nAverage Classification Report (from Cross-Validation):\")\n",
        "print(val_reports)\n",
        "\n",
        "# === Evaluate final model on full training and test sets ===\n",
        "print(\"\\nEvaluating final model on full training data:\")\n",
        "model = create_model(X_scaled.shape[1], y_cat.shape[1])\n",
        "model.fit(X_scaled, y_cat, epochs=30, batch_size=32, validation_split=0.1, class_weight=class_weight_dict)\n",
        "\n",
        "# === Evaluate and report on training data ===\n",
        "y_train_pred = model.predict(X_scaled)\n",
        "y_train_pred_labels = np.argmax(y_train_pred, axis=1)\n",
        "y_train_true_labels = np.argmax(y_cat, axis=1)\n",
        "print(classification_report(y_train_true_labels, y_train_pred_labels, target_names=le.classes_))\n",
        "\n",
        "# === Evaluate and report on testing data ===\n",
        "print(\"\\nEvaluating final model on testing data:\")\n",
        "y_test_pred = model.predict(X_test_scaled)\n",
        "y_test_pred_labels = np.argmax(y_test_pred, axis=1)\n",
        "y_test_true_labels = np.argmax(y_test_cat, axis=1)\n",
        "print(classification_report(y_test_true_labels, y_test_pred_labels, target_names=le.classes_))"
      ],
      "metadata": {
        "colab": {
          "base_uri": "https://localhost:8080/"
        },
        "id": "fPWbRUGocSFZ",
        "outputId": "a4f1de48-bb76-4904-d962-2cfc6ff4a8b5"
      },
      "execution_count": null,
      "outputs": [
        {
          "output_type": "stream",
          "name": "stdout",
          "text": [
            "Epoch 1/30\n"
          ]
        },
        {
          "output_type": "stream",
          "name": "stderr",
          "text": [
            "/usr/local/lib/python3.11/dist-packages/keras/src/layers/core/dense.py:87: UserWarning: Do not pass an `input_shape`/`input_dim` argument to a layer. When using Sequential models, prefer using an `Input(shape)` object as the first layer in the model instead.\n",
            "  super().__init__(activity_regularizer=activity_regularizer, **kwargs)\n"
          ]
        },
        {
          "output_type": "stream",
          "name": "stdout",
          "text": [
            "\u001b[1m12/12\u001b[0m \u001b[32m━━━━━━━━━━━━━━━━━━━━\u001b[0m\u001b[37m\u001b[0m \u001b[1m2s\u001b[0m 33ms/step - accuracy: 0.2563 - loss: 2.2343 - val_accuracy: 0.2391 - val_loss: 1.8655\n",
            "Epoch 2/30\n",
            "\u001b[1m12/12\u001b[0m \u001b[32m━━━━━━━━━━━━━━━━━━━━\u001b[0m\u001b[37m\u001b[0m \u001b[1m0s\u001b[0m 17ms/step - accuracy: 0.5227 - loss: 1.2622 - val_accuracy: 0.2717 - val_loss: 1.9404\n",
            "Epoch 3/30\n",
            "\u001b[1m12/12\u001b[0m \u001b[32m━━━━━━━━━━━━━━━━━━━━\u001b[0m\u001b[37m\u001b[0m \u001b[1m0s\u001b[0m 13ms/step - accuracy: 0.6336 - loss: 0.9236 - val_accuracy: 0.3587 - val_loss: 1.8684\n",
            "Epoch 4/30\n",
            "\u001b[1m12/12\u001b[0m \u001b[32m━━━━━━━━━━━━━━━━━━━━\u001b[0m\u001b[37m\u001b[0m \u001b[1m0s\u001b[0m 12ms/step - accuracy: 0.6960 - loss: 0.7956 - val_accuracy: 0.3696 - val_loss: 1.8779\n",
            "Epoch 5/30\n",
            "\u001b[1m12/12\u001b[0m \u001b[32m━━━━━━━━━━━━━━━━━━━━\u001b[0m\u001b[37m\u001b[0m \u001b[1m0s\u001b[0m 12ms/step - accuracy: 0.8015 - loss: 0.5882 - val_accuracy: 0.3478 - val_loss: 1.8959\n",
            "Epoch 6/30\n",
            "\u001b[1m12/12\u001b[0m \u001b[32m━━━━━━━━━━━━━━━━━━━━\u001b[0m\u001b[37m\u001b[0m \u001b[1m0s\u001b[0m 17ms/step - accuracy: 0.8383 - loss: 0.4568 - val_accuracy: 0.3587 - val_loss: 1.9038\n",
            "\u001b[1m3/3\u001b[0m \u001b[32m━━━━━━━━━━━━━━━━━━━━\u001b[0m\u001b[37m\u001b[0m \u001b[1m0s\u001b[0m 29ms/step\n",
            "Epoch 1/30\n"
          ]
        },
        {
          "output_type": "stream",
          "name": "stderr",
          "text": [
            "/usr/local/lib/python3.11/dist-packages/keras/src/layers/core/dense.py:87: UserWarning: Do not pass an `input_shape`/`input_dim` argument to a layer. When using Sequential models, prefer using an `Input(shape)` object as the first layer in the model instead.\n",
            "  super().__init__(activity_regularizer=activity_regularizer, **kwargs)\n"
          ]
        },
        {
          "output_type": "stream",
          "name": "stdout",
          "text": [
            "\u001b[1m12/12\u001b[0m \u001b[32m━━━━━━━━━━━━━━━━━━━━\u001b[0m\u001b[37m\u001b[0m \u001b[1m2s\u001b[0m 32ms/step - accuracy: 0.1819 - loss: 2.3830 - val_accuracy: 0.2418 - val_loss: 1.6920\n",
            "Epoch 2/30\n",
            "\u001b[1m12/12\u001b[0m \u001b[32m━━━━━━━━━━━━━━━━━━━━\u001b[0m\u001b[37m\u001b[0m \u001b[1m0s\u001b[0m 12ms/step - accuracy: 0.4580 - loss: 1.4196 - val_accuracy: 0.2527 - val_loss: 1.7038\n",
            "Epoch 3/30\n",
            "\u001b[1m12/12\u001b[0m \u001b[32m━━━━━━━━━━━━━━━━━━━━\u001b[0m\u001b[37m\u001b[0m \u001b[1m0s\u001b[0m 12ms/step - accuracy: 0.6383 - loss: 0.9189 - val_accuracy: 0.2747 - val_loss: 1.7573\n",
            "Epoch 4/30\n",
            "\u001b[1m12/12\u001b[0m \u001b[32m━━━━━━━━━━━━━━━━━━━━\u001b[0m\u001b[37m\u001b[0m \u001b[1m0s\u001b[0m 12ms/step - accuracy: 0.7011 - loss: 0.7262 - val_accuracy: 0.2747 - val_loss: 1.8066\n",
            "Epoch 5/30\n",
            "\u001b[1m12/12\u001b[0m \u001b[32m━━━━━━━━━━━━━━━━━━━━\u001b[0m\u001b[37m\u001b[0m \u001b[1m0s\u001b[0m 17ms/step - accuracy: 0.7826 - loss: 0.6311 - val_accuracy: 0.3187 - val_loss: 1.8259\n",
            "Epoch 6/30\n",
            "\u001b[1m12/12\u001b[0m \u001b[32m━━━━━━━━━━━━━━━━━━━━\u001b[0m\u001b[37m\u001b[0m \u001b[1m0s\u001b[0m 12ms/step - accuracy: 0.8992 - loss: 0.3883 - val_accuracy: 0.2418 - val_loss: 1.9042\n"
          ]
        },
        {
          "output_type": "stream",
          "name": "stderr",
          "text": [
            "WARNING:tensorflow:5 out of the last 19 calls to <function TensorFlowTrainer.make_predict_function.<locals>.one_step_on_data_distributed at 0x7a2ce1e69d00> triggered tf.function retracing. Tracing is expensive and the excessive number of tracings could be due to (1) creating @tf.function repeatedly in a loop, (2) passing tensors with different shapes, (3) passing Python objects instead of tensors. For (1), please define your @tf.function outside of the loop. For (2), @tf.function has reduce_retracing=True option that can avoid unnecessary retracing. For (3), please refer to https://www.tensorflow.org/guide/function#controlling_retracing and https://www.tensorflow.org/api_docs/python/tf/function for  more details.\n"
          ]
        },
        {
          "output_type": "stream",
          "name": "stdout",
          "text": [
            "\r\u001b[1m1/3\u001b[0m \u001b[32m━━━━━━\u001b[0m\u001b[37m━━━━━━━━━━━━━━\u001b[0m \u001b[1m0s\u001b[0m 54ms/step"
          ]
        },
        {
          "output_type": "stream",
          "name": "stderr",
          "text": [
            "WARNING:tensorflow:6 out of the last 21 calls to <function TensorFlowTrainer.make_predict_function.<locals>.one_step_on_data_distributed at 0x7a2ce1e69d00> triggered tf.function retracing. Tracing is expensive and the excessive number of tracings could be due to (1) creating @tf.function repeatedly in a loop, (2) passing tensors with different shapes, (3) passing Python objects instead of tensors. For (1), please define your @tf.function outside of the loop. For (2), @tf.function has reduce_retracing=True option that can avoid unnecessary retracing. For (3), please refer to https://www.tensorflow.org/guide/function#controlling_retracing and https://www.tensorflow.org/api_docs/python/tf/function for  more details.\n"
          ]
        },
        {
          "output_type": "stream",
          "name": "stdout",
          "text": [
            "\b\b\b\b\b\b\b\b\b\b\b\b\b\b\b\b\b\b\b\b\b\b\b\b\b\b\b\b\b\b\b\b\b\b\b\b\b\r\u001b[1m3/3\u001b[0m \u001b[32m━━━━━━━━━━━━━━━━━━━━\u001b[0m\u001b[37m\u001b[0m \u001b[1m0s\u001b[0m 30ms/step\n"
          ]
        },
        {
          "output_type": "stream",
          "name": "stderr",
          "text": [
            "/usr/local/lib/python3.11/dist-packages/keras/src/layers/core/dense.py:87: UserWarning: Do not pass an `input_shape`/`input_dim` argument to a layer. When using Sequential models, prefer using an `Input(shape)` object as the first layer in the model instead.\n",
            "  super().__init__(activity_regularizer=activity_regularizer, **kwargs)\n"
          ]
        },
        {
          "output_type": "stream",
          "name": "stdout",
          "text": [
            "Epoch 1/30\n",
            "\u001b[1m12/12\u001b[0m \u001b[32m━━━━━━━━━━━━━━━━━━━━\u001b[0m\u001b[37m\u001b[0m \u001b[1m2s\u001b[0m 48ms/step - accuracy: 0.2679 - loss: 2.0101 - val_accuracy: 0.3187 - val_loss: 1.6745\n",
            "Epoch 2/30\n",
            "\u001b[1m12/12\u001b[0m \u001b[32m━━━━━━━━━━━━━━━━━━━━\u001b[0m\u001b[37m\u001b[0m \u001b[1m0s\u001b[0m 24ms/step - accuracy: 0.4877 - loss: 1.3088 - val_accuracy: 0.3516 - val_loss: 1.7030\n",
            "Epoch 3/30\n",
            "\u001b[1m12/12\u001b[0m \u001b[32m━━━━━━━━━━━━━━━━━━━━\u001b[0m\u001b[37m\u001b[0m \u001b[1m1s\u001b[0m 23ms/step - accuracy: 0.5685 - loss: 1.1116 - val_accuracy: 0.3077 - val_loss: 1.6943\n",
            "Epoch 4/30\n",
            "\u001b[1m12/12\u001b[0m \u001b[32m━━━━━━━━━━━━━━━━━━━━\u001b[0m\u001b[37m\u001b[0m \u001b[1m0s\u001b[0m 24ms/step - accuracy: 0.7073 - loss: 0.7637 - val_accuracy: 0.3407 - val_loss: 1.6847\n",
            "Epoch 5/30\n",
            "\u001b[1m12/12\u001b[0m \u001b[32m━━━━━━━━━━━━━━━━━━━━\u001b[0m\u001b[37m\u001b[0m \u001b[1m0s\u001b[0m 22ms/step - accuracy: 0.7699 - loss: 0.6337 - val_accuracy: 0.3846 - val_loss: 1.7418\n",
            "Epoch 6/30\n",
            "\u001b[1m12/12\u001b[0m \u001b[32m━━━━━━━━━━━━━━━━━━━━\u001b[0m\u001b[37m\u001b[0m \u001b[1m0s\u001b[0m 13ms/step - accuracy: 0.8561 - loss: 0.4551 - val_accuracy: 0.3187 - val_loss: 1.7802\n",
            "\u001b[1m3/3\u001b[0m \u001b[32m━━━━━━━━━━━━━━━━━━━━\u001b[0m\u001b[37m\u001b[0m \u001b[1m0s\u001b[0m 28ms/step\n",
            "Epoch 1/30\n"
          ]
        },
        {
          "output_type": "stream",
          "name": "stderr",
          "text": [
            "/usr/local/lib/python3.11/dist-packages/keras/src/layers/core/dense.py:87: UserWarning: Do not pass an `input_shape`/`input_dim` argument to a layer. When using Sequential models, prefer using an `Input(shape)` object as the first layer in the model instead.\n",
            "  super().__init__(activity_regularizer=activity_regularizer, **kwargs)\n"
          ]
        },
        {
          "output_type": "stream",
          "name": "stdout",
          "text": [
            "\u001b[1m12/12\u001b[0m \u001b[32m━━━━━━━━━━━━━━━━━━━━\u001b[0m\u001b[37m\u001b[0m \u001b[1m2s\u001b[0m 32ms/step - accuracy: 0.2100 - loss: 2.2114 - val_accuracy: 0.2637 - val_loss: 1.6342\n",
            "Epoch 2/30\n",
            "\u001b[1m12/12\u001b[0m \u001b[32m━━━━━━━━━━━━━━━━━━━━\u001b[0m\u001b[37m\u001b[0m \u001b[1m0s\u001b[0m 18ms/step - accuracy: 0.4032 - loss: 1.4190 - val_accuracy: 0.2308 - val_loss: 1.6047\n",
            "Epoch 3/30\n",
            "\u001b[1m12/12\u001b[0m \u001b[32m━━━━━━━━━━━━━━━━━━━━\u001b[0m\u001b[37m\u001b[0m \u001b[1m0s\u001b[0m 13ms/step - accuracy: 0.6336 - loss: 0.9985 - val_accuracy: 0.3187 - val_loss: 1.5377\n",
            "Epoch 4/30\n",
            "\u001b[1m12/12\u001b[0m \u001b[32m━━━━━━━━━━━━━━━━━━━━\u001b[0m\u001b[37m\u001b[0m \u001b[1m0s\u001b[0m 13ms/step - accuracy: 0.7050 - loss: 0.7872 - val_accuracy: 0.3516 - val_loss: 1.5479\n",
            "Epoch 5/30\n",
            "\u001b[1m12/12\u001b[0m \u001b[32m━━━━━━━━━━━━━━━━━━━━\u001b[0m\u001b[37m\u001b[0m \u001b[1m0s\u001b[0m 12ms/step - accuracy: 0.7981 - loss: 0.5436 - val_accuracy: 0.3626 - val_loss: 1.5782\n",
            "Epoch 6/30\n",
            "\u001b[1m12/12\u001b[0m \u001b[32m━━━━━━━━━━━━━━━━━━━━\u001b[0m\u001b[37m\u001b[0m \u001b[1m0s\u001b[0m 13ms/step - accuracy: 0.8433 - loss: 0.4538 - val_accuracy: 0.3407 - val_loss: 1.6217\n",
            "Epoch 7/30\n",
            "\u001b[1m12/12\u001b[0m \u001b[32m━━━━━━━━━━━━━━━━━━━━\u001b[0m\u001b[37m\u001b[0m \u001b[1m0s\u001b[0m 12ms/step - accuracy: 0.8856 - loss: 0.3522 - val_accuracy: 0.3736 - val_loss: 1.6641\n",
            "Epoch 8/30\n",
            "\u001b[1m12/12\u001b[0m \u001b[32m━━━━━━━━━━━━━━━━━━━━\u001b[0m\u001b[37m\u001b[0m \u001b[1m0s\u001b[0m 13ms/step - accuracy: 0.8955 - loss: 0.3237 - val_accuracy: 0.3956 - val_loss: 1.7390\n",
            "\u001b[1m3/3\u001b[0m \u001b[32m━━━━━━━━━━━━━━━━━━━━\u001b[0m\u001b[37m\u001b[0m \u001b[1m0s\u001b[0m 29ms/step\n",
            "Epoch 1/30\n"
          ]
        },
        {
          "output_type": "stream",
          "name": "stderr",
          "text": [
            "/usr/local/lib/python3.11/dist-packages/keras/src/layers/core/dense.py:87: UserWarning: Do not pass an `input_shape`/`input_dim` argument to a layer. When using Sequential models, prefer using an `Input(shape)` object as the first layer in the model instead.\n",
            "  super().__init__(activity_regularizer=activity_regularizer, **kwargs)\n"
          ]
        },
        {
          "output_type": "stream",
          "name": "stdout",
          "text": [
            "\u001b[1m12/12\u001b[0m \u001b[32m━━━━━━━━━━━━━━━━━━━━\u001b[0m\u001b[37m\u001b[0m \u001b[1m2s\u001b[0m 36ms/step - accuracy: 0.1950 - loss: 2.0176 - val_accuracy: 0.2747 - val_loss: 1.7023\n",
            "Epoch 2/30\n",
            "\u001b[1m12/12\u001b[0m \u001b[32m━━━━━━━━━━━━━━━━━━━━\u001b[0m\u001b[37m\u001b[0m \u001b[1m0s\u001b[0m 16ms/step - accuracy: 0.5220 - loss: 1.1976 - val_accuracy: 0.2967 - val_loss: 1.6823\n",
            "Epoch 3/30\n",
            "\u001b[1m12/12\u001b[0m \u001b[32m━━━━━━━━━━━━━━━━━━━━\u001b[0m\u001b[37m\u001b[0m \u001b[1m0s\u001b[0m 13ms/step - accuracy: 0.6701 - loss: 0.9080 - val_accuracy: 0.3077 - val_loss: 1.7760\n",
            "Epoch 4/30\n",
            "\u001b[1m12/12\u001b[0m \u001b[32m━━━━━━━━━━━━━━━━━━━━\u001b[0m\u001b[37m\u001b[0m \u001b[1m0s\u001b[0m 18ms/step - accuracy: 0.7662 - loss: 0.6983 - val_accuracy: 0.2967 - val_loss: 1.8948\n",
            "Epoch 5/30\n",
            "\u001b[1m12/12\u001b[0m \u001b[32m━━━━━━━━━━━━━━━━━━━━\u001b[0m\u001b[37m\u001b[0m \u001b[1m0s\u001b[0m 13ms/step - accuracy: 0.7906 - loss: 0.5653 - val_accuracy: 0.2747 - val_loss: 1.9661\n",
            "Epoch 6/30\n",
            "\u001b[1m12/12\u001b[0m \u001b[32m━━━━━━━━━━━━━━━━━━━━\u001b[0m\u001b[37m\u001b[0m \u001b[1m0s\u001b[0m 14ms/step - accuracy: 0.8711 - loss: 0.4244 - val_accuracy: 0.2637 - val_loss: 2.0082\n",
            "Epoch 7/30\n",
            "\u001b[1m12/12\u001b[0m \u001b[32m━━━━━━━━━━━━━━━━━━━━\u001b[0m\u001b[37m\u001b[0m \u001b[1m0s\u001b[0m 15ms/step - accuracy: 0.8666 - loss: 0.3844 - val_accuracy: 0.2527 - val_loss: 2.0470\n",
            "\u001b[1m3/3\u001b[0m \u001b[32m━━━━━━━━━━━━━━━━━━━━\u001b[0m\u001b[37m\u001b[0m \u001b[1m0s\u001b[0m 29ms/step\n",
            "\n",
            "Average Classification Report (from Cross-Validation):\n",
            "['              precision    recall  f1-score   support\\n\\n       angry       0.33      0.35      0.34        20\\n       happy       0.36      0.22      0.28        18\\n     nuetral       0.29      0.19      0.23        21\\n         sad       0.11      0.12      0.11        16\\n    suprised       0.19      0.29      0.23        17\\n\\n    accuracy                           0.24        92\\n   macro avg       0.25      0.24      0.24        92\\nweighted avg       0.26      0.24      0.24        92\\n', '              precision    recall  f1-score   support\\n\\n       angry       0.17      0.21      0.19        19\\n       happy       0.57      0.21      0.31        19\\n     nuetral       0.33      0.29      0.31        21\\n         sad       0.07      0.07      0.07        15\\n    suprised       0.25      0.41      0.31        17\\n\\n    accuracy                           0.24        91\\n   macro avg       0.28      0.24      0.24        91\\nweighted avg       0.29      0.24      0.24        91\\n', '              precision    recall  f1-score   support\\n\\n       angry       0.43      0.47      0.45        19\\n       happy       0.25      0.11      0.15        19\\n     nuetral       0.14      0.10      0.11        21\\n         sad       0.41      0.47      0.44        15\\n    suprised       0.29      0.53      0.38        17\\n\\n    accuracy                           0.32        91\\n   macro avg       0.30      0.33      0.30        91\\nweighted avg       0.30      0.32      0.29        91\\n', '              precision    recall  f1-score   support\\n\\n       angry       0.50      0.53      0.51        19\\n       happy       0.12      0.11      0.11        19\\n     nuetral       0.32      0.35      0.33        20\\n         sad       0.21      0.19      0.20        16\\n    suprised       0.37      0.41      0.39        17\\n\\n    accuracy                           0.32        91\\n   macro avg       0.31      0.32      0.31        91\\nweighted avg       0.31      0.32      0.31        91\\n', '              precision    recall  f1-score   support\\n\\n       angry       0.43      0.47      0.45        19\\n       happy       0.21      0.16      0.18        19\\n     nuetral       0.16      0.15      0.15        20\\n         sad       0.30      0.44      0.36        16\\n    suprised       0.36      0.29      0.32        17\\n\\n    accuracy                           0.30        91\\n   macro avg       0.29      0.30      0.29        91\\nweighted avg       0.29      0.30      0.29        91\\n']\n",
            "\n",
            "Evaluating final model on full training data:\n",
            "Epoch 1/30\n"
          ]
        },
        {
          "output_type": "stream",
          "name": "stderr",
          "text": [
            "/usr/local/lib/python3.11/dist-packages/keras/src/layers/core/dense.py:87: UserWarning: Do not pass an `input_shape`/`input_dim` argument to a layer. When using Sequential models, prefer using an `Input(shape)` object as the first layer in the model instead.\n",
            "  super().__init__(activity_regularizer=activity_regularizer, **kwargs)\n"
          ]
        },
        {
          "output_type": "stream",
          "name": "stdout",
          "text": [
            "\u001b[1m13/13\u001b[0m \u001b[32m━━━━━━━━━━━━━━━━━━━━\u001b[0m\u001b[37m\u001b[0m \u001b[1m2s\u001b[0m 46ms/step - accuracy: 0.2163 - loss: 2.2219 - val_accuracy: 0.1522 - val_loss: 2.5710\n",
            "Epoch 2/30\n",
            "\u001b[1m13/13\u001b[0m \u001b[32m━━━━━━━━━━━━━━━━━━━━\u001b[0m\u001b[37m\u001b[0m \u001b[1m0s\u001b[0m 20ms/step - accuracy: 0.5144 - loss: 1.2682 - val_accuracy: 0.1957 - val_loss: 2.2900\n",
            "Epoch 3/30\n",
            "\u001b[1m13/13\u001b[0m \u001b[32m━━━━━━━━━━━━━━━━━━━━\u001b[0m\u001b[37m\u001b[0m \u001b[1m1s\u001b[0m 21ms/step - accuracy: 0.6503 - loss: 0.9127 - val_accuracy: 0.1957 - val_loss: 2.4678\n",
            "Epoch 4/30\n",
            "\u001b[1m13/13\u001b[0m \u001b[32m━━━━━━━━━━━━━━━━━━━━\u001b[0m\u001b[37m\u001b[0m \u001b[1m0s\u001b[0m 17ms/step - accuracy: 0.6914 - loss: 0.7627 - val_accuracy: 0.1957 - val_loss: 2.6287\n",
            "Epoch 5/30\n",
            "\u001b[1m13/13\u001b[0m \u001b[32m━━━━━━━━━━━━━━━━━━━━\u001b[0m\u001b[37m\u001b[0m \u001b[1m0s\u001b[0m 22ms/step - accuracy: 0.8311 - loss: 0.4995 - val_accuracy: 0.1304 - val_loss: 2.8953\n",
            "Epoch 6/30\n",
            "\u001b[1m13/13\u001b[0m \u001b[32m━━━━━━━━━━━━━━━━━━━━\u001b[0m\u001b[37m\u001b[0m \u001b[1m1s\u001b[0m 21ms/step - accuracy: 0.8101 - loss: 0.5182 - val_accuracy: 0.1739 - val_loss: 2.8592\n",
            "Epoch 7/30\n",
            "\u001b[1m13/13\u001b[0m \u001b[32m━━━━━━━━━━━━━━━━━━━━\u001b[0m\u001b[37m\u001b[0m \u001b[1m0s\u001b[0m 21ms/step - accuracy: 0.8755 - loss: 0.3516 - val_accuracy: 0.1957 - val_loss: 2.9168\n",
            "Epoch 8/30\n",
            "\u001b[1m13/13\u001b[0m \u001b[32m━━━━━━━━━━━━━━━━━━━━\u001b[0m\u001b[37m\u001b[0m \u001b[1m0s\u001b[0m 21ms/step - accuracy: 0.9282 - loss: 0.2889 - val_accuracy: 0.1087 - val_loss: 3.2066\n",
            "Epoch 9/30\n",
            "\u001b[1m13/13\u001b[0m \u001b[32m━━━━━━━━━━━━━━━━━━━━\u001b[0m\u001b[37m\u001b[0m \u001b[1m1s\u001b[0m 12ms/step - accuracy: 0.9366 - loss: 0.2153 - val_accuracy: 0.1304 - val_loss: 3.1210\n",
            "Epoch 10/30\n",
            "\u001b[1m13/13\u001b[0m \u001b[32m━━━━━━━━━━━━━━━━━━━━\u001b[0m\u001b[37m\u001b[0m \u001b[1m0s\u001b[0m 13ms/step - accuracy: 0.9393 - loss: 0.2202 - val_accuracy: 0.1304 - val_loss: 3.3010\n",
            "Epoch 11/30\n",
            "\u001b[1m13/13\u001b[0m \u001b[32m━━━━━━━━━━━━━━━━━━━━\u001b[0m\u001b[37m\u001b[0m \u001b[1m0s\u001b[0m 11ms/step - accuracy: 0.9438 - loss: 0.1790 - val_accuracy: 0.1522 - val_loss: 3.3727\n",
            "Epoch 12/30\n",
            "\u001b[1m13/13\u001b[0m \u001b[32m━━━━━━━━━━━━━━━━━━━━\u001b[0m\u001b[37m\u001b[0m \u001b[1m0s\u001b[0m 12ms/step - accuracy: 0.9526 - loss: 0.1364 - val_accuracy: 0.1087 - val_loss: 3.4410\n",
            "Epoch 13/30\n",
            "\u001b[1m13/13\u001b[0m \u001b[32m━━━━━━━━━━━━━━━━━━━━\u001b[0m\u001b[37m\u001b[0m \u001b[1m0s\u001b[0m 12ms/step - accuracy: 0.9798 - loss: 0.0861 - val_accuracy: 0.1087 - val_loss: 3.6622\n",
            "Epoch 14/30\n",
            "\u001b[1m13/13\u001b[0m \u001b[32m━━━━━━━━━━━━━━━━━━━━\u001b[0m\u001b[37m\u001b[0m \u001b[1m0s\u001b[0m 12ms/step - accuracy: 0.9584 - loss: 0.1418 - val_accuracy: 0.0870 - val_loss: 3.9012\n",
            "Epoch 15/30\n",
            "\u001b[1m13/13\u001b[0m \u001b[32m━━━━━━━━━━━━━━━━━━━━\u001b[0m\u001b[37m\u001b[0m \u001b[1m0s\u001b[0m 16ms/step - accuracy: 0.9408 - loss: 0.1673 - val_accuracy: 0.1087 - val_loss: 3.9236\n",
            "Epoch 16/30\n",
            "\u001b[1m13/13\u001b[0m \u001b[32m━━━━━━━━━━━━━━━━━━━━\u001b[0m\u001b[37m\u001b[0m \u001b[1m0s\u001b[0m 12ms/step - accuracy: 0.9494 - loss: 0.1050 - val_accuracy: 0.1522 - val_loss: 3.9102\n",
            "Epoch 17/30\n",
            "\u001b[1m13/13\u001b[0m \u001b[32m━━━━━━━━━━━━━━━━━━━━\u001b[0m\u001b[37m\u001b[0m \u001b[1m0s\u001b[0m 12ms/step - accuracy: 0.9775 - loss: 0.0868 - val_accuracy: 0.1957 - val_loss: 3.9004\n",
            "Epoch 18/30\n",
            "\u001b[1m13/13\u001b[0m \u001b[32m━━━━━━━━━━━━━━━━━━━━\u001b[0m\u001b[37m\u001b[0m \u001b[1m0s\u001b[0m 11ms/step - accuracy: 0.9811 - loss: 0.0659 - val_accuracy: 0.1957 - val_loss: 3.9797\n",
            "Epoch 19/30\n",
            "\u001b[1m13/13\u001b[0m \u001b[32m━━━━━━━━━━━━━━━━━━━━\u001b[0m\u001b[37m\u001b[0m \u001b[1m0s\u001b[0m 18ms/step - accuracy: 0.9753 - loss: 0.0830 - val_accuracy: 0.1304 - val_loss: 4.5175\n",
            "Epoch 20/30\n",
            "\u001b[1m13/13\u001b[0m \u001b[32m━━━━━━━━━━━━━━━━━━━━\u001b[0m\u001b[37m\u001b[0m \u001b[1m0s\u001b[0m 12ms/step - accuracy: 0.9871 - loss: 0.0534 - val_accuracy: 0.1087 - val_loss: 4.7339\n",
            "Epoch 21/30\n",
            "\u001b[1m13/13\u001b[0m \u001b[32m━━━━━━━━━━━━━━━━━━━━\u001b[0m\u001b[37m\u001b[0m \u001b[1m0s\u001b[0m 12ms/step - accuracy: 0.9762 - loss: 0.0630 - val_accuracy: 0.1087 - val_loss: 4.6050\n",
            "Epoch 22/30\n",
            "\u001b[1m13/13\u001b[0m \u001b[32m━━━━━━━━━━━━━━━━━━━━\u001b[0m\u001b[37m\u001b[0m \u001b[1m0s\u001b[0m 11ms/step - accuracy: 0.9925 - loss: 0.0547 - val_accuracy: 0.1957 - val_loss: 4.3052\n",
            "Epoch 23/30\n",
            "\u001b[1m13/13\u001b[0m \u001b[32m━━━━━━━━━━━━━━━━━━━━\u001b[0m\u001b[37m\u001b[0m \u001b[1m0s\u001b[0m 13ms/step - accuracy: 0.9784 - loss: 0.0716 - val_accuracy: 0.1304 - val_loss: 4.7630\n",
            "Epoch 24/30\n",
            "\u001b[1m13/13\u001b[0m \u001b[32m━━━━━━━━━━━━━━━━━━━━\u001b[0m\u001b[37m\u001b[0m \u001b[1m0s\u001b[0m 12ms/step - accuracy: 0.9780 - loss: 0.0568 - val_accuracy: 0.1522 - val_loss: 4.6945\n",
            "Epoch 25/30\n",
            "\u001b[1m13/13\u001b[0m \u001b[32m━━━━━━━━━━━━━━━━━━━━\u001b[0m\u001b[37m\u001b[0m \u001b[1m0s\u001b[0m 12ms/step - accuracy: 0.9832 - loss: 0.0445 - val_accuracy: 0.1739 - val_loss: 4.8232\n",
            "Epoch 26/30\n",
            "\u001b[1m13/13\u001b[0m \u001b[32m━━━━━━━━━━━━━━━━━━━━\u001b[0m\u001b[37m\u001b[0m \u001b[1m0s\u001b[0m 12ms/step - accuracy: 0.9800 - loss: 0.0648 - val_accuracy: 0.1522 - val_loss: 5.1862\n",
            "Epoch 27/30\n",
            "\u001b[1m13/13\u001b[0m \u001b[32m━━━━━━━━━━━━━━━━━━━━\u001b[0m\u001b[37m\u001b[0m \u001b[1m0s\u001b[0m 13ms/step - accuracy: 0.9878 - loss: 0.0376 - val_accuracy: 0.1739 - val_loss: 5.2101\n",
            "Epoch 28/30\n",
            "\u001b[1m13/13\u001b[0m \u001b[32m━━━━━━━━━━━━━━━━━━━━\u001b[0m\u001b[37m\u001b[0m \u001b[1m0s\u001b[0m 12ms/step - accuracy: 0.9925 - loss: 0.0457 - val_accuracy: 0.1304 - val_loss: 5.1325\n",
            "Epoch 29/30\n",
            "\u001b[1m13/13\u001b[0m \u001b[32m━━━━━━━━━━━━━━━━━━━━\u001b[0m\u001b[37m\u001b[0m \u001b[1m0s\u001b[0m 12ms/step - accuracy: 0.9888 - loss: 0.0405 - val_accuracy: 0.1739 - val_loss: 4.8892\n",
            "Epoch 30/30\n",
            "\u001b[1m13/13\u001b[0m \u001b[32m━━━━━━━━━━━━━━━━━━━━\u001b[0m\u001b[37m\u001b[0m \u001b[1m0s\u001b[0m 15ms/step - accuracy: 0.9738 - loss: 0.0871 - val_accuracy: 0.1304 - val_loss: 5.1148\n",
            "\u001b[1m15/15\u001b[0m \u001b[32m━━━━━━━━━━━━━━━━━━━━\u001b[0m\u001b[37m\u001b[0m \u001b[1m0s\u001b[0m 7ms/step\n",
            "              precision    recall  f1-score   support\n",
            "\n",
            "       angry       0.87      1.00      0.93        96\n",
            "       happy       0.89      1.00      0.94        94\n",
            "     nuetral       0.94      1.00      0.97       103\n",
            "         sad       0.92      1.00      0.96        78\n",
            "    suprised       1.00      0.53      0.69        85\n",
            "\n",
            "    accuracy                           0.91       456\n",
            "   macro avg       0.92      0.91      0.90       456\n",
            "weighted avg       0.92      0.91      0.90       456\n",
            "\n",
            "\n",
            "Evaluating final model on testing data:\n",
            "\u001b[1m3/3\u001b[0m \u001b[32m━━━━━━━━━━━━━━━━━━━━\u001b[0m\u001b[37m\u001b[0m \u001b[1m0s\u001b[0m 12ms/step\n",
            "              precision    recall  f1-score   support\n",
            "\n",
            "       angry       0.83      1.00      0.90        19\n",
            "       happy       0.86      1.00      0.93        19\n",
            "     nuetral       1.00      1.00      1.00        21\n",
            "         sad       0.94      1.00      0.97        16\n",
            "    suprised       1.00      0.53      0.69        17\n",
            "\n",
            "    accuracy                           0.91        92\n",
            "   macro avg       0.93      0.91      0.90        92\n",
            "weighted avg       0.93      0.91      0.90        92\n",
            "\n"
          ]
        }
      ]
    },
    {
      "cell_type": "markdown",
      "source": [
        "**Modified Multi - Layer Perceptron (MLP)**"
      ],
      "metadata": {
        "id": "o-qYFnyUznnJ"
      }
    },
    {
      "cell_type": "code",
      "source": [
        "from tensorflow.keras.models import Sequential\n",
        "from tensorflow.keras.layers import Dense, Dropout, BatchNormalization\n",
        "from tensorflow.keras.regularizers import l2\n",
        "\n",
        "# === Split into training and testing sets ===\n",
        "X_train, X_test, y_train_cat, y_test_cat = train_test_split(\n",
        "    X, y_cat, test_size=0.4, random_state=42, stratify=y_cat\n",
        ")\n",
        "\n",
        "# === Standardize features ===\n",
        "scaler = StandardScaler()\n",
        "X_train_scaled = scaler.fit_transform(X_train)\n",
        "X_test_scaled = scaler.transform(X_test)\n",
        "\n",
        "\n",
        "def create_model(input_dim, num_classes):\n",
        "    model = Sequential([\n",
        "        Dense(256, activation='relu', input_shape=(input_dim,), kernel_regularizer=l2(0.001)),\n",
        "        BatchNormalization(),\n",
        "        Dropout(0.4),\n",
        "\n",
        "        Dense(128, activation='relu', kernel_regularizer=l2(0.001)),\n",
        "        BatchNormalization(),\n",
        "        Dropout(0.3),\n",
        "\n",
        "        Dense(64, activation='relu'),\n",
        "        Dropout(0.3),\n",
        "\n",
        "        Dense(num_classes, activation='softmax')\n",
        "    ])\n",
        "\n",
        "    model.compile(optimizer='adam', loss='categorical_crossentropy', metrics=['accuracy'])\n",
        "    return model\n",
        "\n",
        "# === Cross-validation ===\n",
        "kf = StratifiedKFold(n_splits=5, shuffle=True, random_state=42)\n",
        "val_reports = []\n",
        "\n",
        "for train_index, val_index in kf.split(X_scaled, y_encoded):\n",
        "    X_train, X_val = X_scaled[train_index], X_scaled[val_index]\n",
        "    y_train, y_val = y_cat[train_index], y_cat[val_index]\n",
        "\n",
        "    # === Early Stopping ===\n",
        "    early_stopping = EarlyStopping(monitor='val_loss', patience=5, restore_best_weights=True)\n",
        "\n",
        "    # === Create and train model ===\n",
        "    model = create_model(X_train.shape[1], y_train.shape[1])\n",
        "    history = model.fit(\n",
        "        X_train, y_train,\n",
        "        epochs=30, batch_size=32,\n",
        "        validation_data=(X_val, y_val),\n",
        "        class_weight=class_weight_dict,\n",
        "        callbacks=[early_stopping],\n",
        "        verbose=1\n",
        "    )\n",
        "\n",
        "    # === Evaluate model on validation set ===\n",
        "    val_pred = model.predict(X_val)\n",
        "    val_pred_labels = np.argmax(val_pred, axis=1)\n",
        "    val_true_labels = np.argmax(y_val, axis=1)\n",
        "    val_report = classification_report(val_true_labels, val_pred_labels, target_names=le.classes_)\n",
        "    val_reports.append(val_report)\n",
        "\n",
        "# === Print average classification report from cross-validation ===\n",
        "print(\"\\nAverage Classification Report (from Cross-Validation):\")\n",
        "print(val_reports)\n",
        "\n",
        "# === Evaluate final model on full training and test sets ===\n",
        "print(\"\\nEvaluating final model on full training data:\")\n",
        "model = create_model(X_scaled.shape[1], y_cat.shape[1])\n",
        "model.fit(X_scaled, y_cat, epochs=30, batch_size=32, validation_split=0.1, class_weight=class_weight_dict)\n",
        "\n",
        "# === Evaluate and report on training data ===\n",
        "y_train_pred = model.predict(X_scaled)\n",
        "y_train_pred_labels = np.argmax(y_train_pred, axis=1)\n",
        "y_train_true_labels = np.argmax(y_cat, axis=1)\n",
        "print(classification_report(y_train_true_labels, y_train_pred_labels, target_names=le.classes_))\n",
        "\n",
        "# === Evaluate and report on testing data ===\n",
        "print(\"\\nEvaluating final model on testing data:\")\n",
        "y_test_pred = model.predict(X_test_scaled)\n",
        "y_test_pred_labels = np.argmax(y_test_pred, axis=1)\n",
        "y_test_true_labels = np.argmax(y_test_cat, axis=1)\n",
        "print(classification_report(y_test_true_labels, y_test_pred_labels, target_names=le.classes_))\n",
        "\n",
        "\n",
        "import matplotlib.pyplot as plt\n",
        "import seaborn as sns\n",
        "from sklearn.metrics import confusion_matrix\n",
        "\n",
        "# === Accuracy vs Epochs ===\n",
        "plt.figure(figsize=(10, 4))\n",
        "plt.plot(history.history['accuracy'], label='Train Accuracy')\n",
        "plt.title('Accuracy vs Epochs')\n",
        "plt.xlabel('Epoch')\n",
        "plt.ylabel('Accuracy')\n",
        "plt.legend()\n",
        "plt.grid(True)\n",
        "plt.tight_layout()\n",
        "plt.show()\n",
        "\n",
        "# === Loss vs Epochs ===\n",
        "plt.figure(figsize=(10, 4))\n",
        "plt.plot(history.history['loss'], label='Train Loss')\n",
        "plt.title('Loss vs Epochs')\n",
        "plt.xlabel('Epoch')\n",
        "plt.ylabel('Loss')\n",
        "plt.legend()\n",
        "plt.grid(True)\n",
        "plt.tight_layout()\n",
        "plt.show()\n",
        "\n",
        "# === Confusion Matrix - Training ===\n",
        "cm_train = confusion_matrix(y_train_true_labels, y_train_pred_labels)\n",
        "plt.figure(figsize=(8, 6))\n",
        "sns.heatmap(cm_train, annot=True, fmt='d', cmap='Greens', xticklabels=le.classes_, yticklabels=le.classes_)\n",
        "plt.title('Training Confusion Matrix')\n",
        "plt.xlabel('Predicted')\n",
        "plt.ylabel('True')\n",
        "plt.tight_layout()\n",
        "plt.show()\n",
        "\n",
        "# === Confusion Matrix - Testing ===\n",
        "cm_test = confusion_matrix(y_test_true_labels, y_test_pred_labels)\n",
        "plt.figure(figsize=(8, 6))\n",
        "sns.heatmap(cm_test, annot=True, fmt='d', cmap='Blues', xticklabels=le.classes_, yticklabels=le.classes_)\n",
        "plt.title('Testing Confusion Matrix')\n",
        "plt.xlabel('Predicted')\n",
        "plt.ylabel('True')\n",
        "plt.tight_layout()\n",
        "plt.show()\n",
        "\n",
        "\n",
        "\n",
        "\n"
      ],
      "metadata": {
        "colab": {
          "base_uri": "https://localhost:8080/",
          "height": 1000
        },
        "id": "NUk_xvm1uRQi",
        "outputId": "854b6585-610b-4c67-eb36-eda5f87f2ab8"
      },
      "execution_count": 19,
      "outputs": [
        {
          "output_type": "stream",
          "name": "stdout",
          "text": [
            "Epoch 1/30\n"
          ]
        },
        {
          "output_type": "stream",
          "name": "stderr",
          "text": [
            "/usr/local/lib/python3.11/dist-packages/keras/src/layers/core/dense.py:87: UserWarning: Do not pass an `input_shape`/`input_dim` argument to a layer. When using Sequential models, prefer using an `Input(shape)` object as the first layer in the model instead.\n",
            "  super().__init__(activity_regularizer=activity_regularizer, **kwargs)\n"
          ]
        },
        {
          "output_type": "stream",
          "name": "stdout",
          "text": [
            "\u001b[1m12/12\u001b[0m \u001b[32m━━━━━━━━━━━━━━━━━━━━\u001b[0m\u001b[37m\u001b[0m \u001b[1m5s\u001b[0m 67ms/step - accuracy: 0.2060 - loss: 2.9477 - val_accuracy: 0.2391 - val_loss: 2.2681\n",
            "Epoch 2/30\n",
            "\u001b[1m12/12\u001b[0m \u001b[32m━━━━━━━━━━━━━━━━━━━━\u001b[0m\u001b[37m\u001b[0m \u001b[1m1s\u001b[0m 28ms/step - accuracy: 0.3799 - loss: 2.2891 - val_accuracy: 0.2717 - val_loss: 2.3083\n",
            "Epoch 3/30\n",
            "\u001b[1m12/12\u001b[0m \u001b[32m━━━━━━━━━━━━━━━━━━━━\u001b[0m\u001b[37m\u001b[0m \u001b[1m1s\u001b[0m 29ms/step - accuracy: 0.4521 - loss: 2.0326 - val_accuracy: 0.2500 - val_loss: 2.3705\n",
            "Epoch 4/30\n",
            "\u001b[1m12/12\u001b[0m \u001b[32m━━━━━━━━━━━━━━━━━━━━\u001b[0m\u001b[37m\u001b[0m \u001b[1m0s\u001b[0m 27ms/step - accuracy: 0.4646 - loss: 2.0073 - val_accuracy: 0.2609 - val_loss: 2.3881\n",
            "Epoch 5/30\n",
            "\u001b[1m12/12\u001b[0m \u001b[32m━━━━━━━━━━━━━━━━━━━━\u001b[0m\u001b[37m\u001b[0m \u001b[1m0s\u001b[0m 17ms/step - accuracy: 0.5634 - loss: 1.7033 - val_accuracy: 0.2826 - val_loss: 2.4294\n",
            "Epoch 6/30\n",
            "\u001b[1m12/12\u001b[0m \u001b[32m━━━━━━━━━━━━━━━━━━━━\u001b[0m\u001b[37m\u001b[0m \u001b[1m0s\u001b[0m 19ms/step - accuracy: 0.6577 - loss: 1.5390 - val_accuracy: 0.2826 - val_loss: 2.4650\n",
            "\u001b[1m3/3\u001b[0m \u001b[32m━━━━━━━━━━━━━━━━━━━━\u001b[0m\u001b[37m\u001b[0m \u001b[1m0s\u001b[0m 48ms/step\n",
            "Epoch 1/30\n"
          ]
        },
        {
          "output_type": "stream",
          "name": "stderr",
          "text": [
            "/usr/local/lib/python3.11/dist-packages/keras/src/layers/core/dense.py:87: UserWarning: Do not pass an `input_shape`/`input_dim` argument to a layer. When using Sequential models, prefer using an `Input(shape)` object as the first layer in the model instead.\n",
            "  super().__init__(activity_regularizer=activity_regularizer, **kwargs)\n"
          ]
        },
        {
          "output_type": "stream",
          "name": "stdout",
          "text": [
            "\u001b[1m12/12\u001b[0m \u001b[32m━━━━━━━━━━━━━━━━━━━━\u001b[0m\u001b[37m\u001b[0m \u001b[1m3s\u001b[0m 46ms/step - accuracy: 0.2139 - loss: 2.8443 - val_accuracy: 0.2637 - val_loss: 2.2856\n",
            "Epoch 2/30\n",
            "\u001b[1m12/12\u001b[0m \u001b[32m━━━━━━━━━━━━━━━━━━━━\u001b[0m\u001b[37m\u001b[0m \u001b[1m0s\u001b[0m 17ms/step - accuracy: 0.3849 - loss: 2.2068 - val_accuracy: 0.2967 - val_loss: 2.2888\n",
            "Epoch 3/30\n",
            "\u001b[1m12/12\u001b[0m \u001b[32m━━━━━━━━━━━━━━━━━━━━\u001b[0m\u001b[37m\u001b[0m \u001b[1m0s\u001b[0m 17ms/step - accuracy: 0.4102 - loss: 2.0254 - val_accuracy: 0.3077 - val_loss: 2.3414\n",
            "Epoch 4/30\n",
            "\u001b[1m12/12\u001b[0m \u001b[32m━━━━━━━━━━━━━━━━━━━━\u001b[0m\u001b[37m\u001b[0m \u001b[1m0s\u001b[0m 18ms/step - accuracy: 0.5037 - loss: 1.8696 - val_accuracy: 0.3077 - val_loss: 2.3216\n",
            "Epoch 5/30\n",
            "\u001b[1m12/12\u001b[0m \u001b[32m━━━━━━━━━━━━━━━━━━━━\u001b[0m\u001b[37m\u001b[0m \u001b[1m0s\u001b[0m 20ms/step - accuracy: 0.5799 - loss: 1.6930 - val_accuracy: 0.2967 - val_loss: 2.2905\n",
            "Epoch 6/30\n",
            "\u001b[1m12/12\u001b[0m \u001b[32m━━━━━━━━━━━━━━━━━━━━\u001b[0m\u001b[37m\u001b[0m \u001b[1m0s\u001b[0m 18ms/step - accuracy: 0.5617 - loss: 1.6851 - val_accuracy: 0.3077 - val_loss: 2.3277\n",
            "\u001b[1m3/3\u001b[0m \u001b[32m━━━━━━━━━━━━━━━━━━━━\u001b[0m\u001b[37m\u001b[0m \u001b[1m0s\u001b[0m 50ms/step\n",
            "Epoch 1/30\n"
          ]
        },
        {
          "output_type": "stream",
          "name": "stderr",
          "text": [
            "/usr/local/lib/python3.11/dist-packages/keras/src/layers/core/dense.py:87: UserWarning: Do not pass an `input_shape`/`input_dim` argument to a layer. When using Sequential models, prefer using an `Input(shape)` object as the first layer in the model instead.\n",
            "  super().__init__(activity_regularizer=activity_regularizer, **kwargs)\n"
          ]
        },
        {
          "output_type": "stream",
          "name": "stdout",
          "text": [
            "\u001b[1m12/12\u001b[0m \u001b[32m━━━━━━━━━━━━━━━━━━━━\u001b[0m\u001b[37m\u001b[0m \u001b[1m3s\u001b[0m 49ms/step - accuracy: 0.1918 - loss: 3.4814 - val_accuracy: 0.2308 - val_loss: 2.5177\n",
            "Epoch 2/30\n",
            "\u001b[1m12/12\u001b[0m \u001b[32m━━━━━━━━━━━━━━━━━━━━\u001b[0m\u001b[37m\u001b[0m \u001b[1m0s\u001b[0m 18ms/step - accuracy: 0.3288 - loss: 2.5521 - val_accuracy: 0.2857 - val_loss: 2.3259\n",
            "Epoch 3/30\n",
            "\u001b[1m12/12\u001b[0m \u001b[32m━━━━━━━━━━━━━━━━━━━━\u001b[0m\u001b[37m\u001b[0m \u001b[1m0s\u001b[0m 18ms/step - accuracy: 0.3941 - loss: 2.1388 - val_accuracy: 0.3297 - val_loss: 2.2480\n",
            "Epoch 4/30\n",
            "\u001b[1m12/12\u001b[0m \u001b[32m━━━━━━━━━━━━━━━━━━━━\u001b[0m\u001b[37m\u001b[0m \u001b[1m0s\u001b[0m 21ms/step - accuracy: 0.4848 - loss: 1.8796 - val_accuracy: 0.3736 - val_loss: 2.2705\n",
            "Epoch 5/30\n",
            "\u001b[1m12/12\u001b[0m \u001b[32m━━━━━━━━━━━━━━━━━━━━\u001b[0m\u001b[37m\u001b[0m \u001b[1m0s\u001b[0m 23ms/step - accuracy: 0.5752 - loss: 1.7775 - val_accuracy: 0.4066 - val_loss: 2.2463\n",
            "Epoch 6/30\n",
            "\u001b[1m12/12\u001b[0m \u001b[32m━━━━━━━━━━━━━━━━━━━━\u001b[0m\u001b[37m\u001b[0m \u001b[1m0s\u001b[0m 28ms/step - accuracy: 0.6316 - loss: 1.6506 - val_accuracy: 0.4066 - val_loss: 2.1947\n",
            "Epoch 7/30\n",
            "\u001b[1m12/12\u001b[0m \u001b[32m━━━━━━━━━━━━━━━━━━━━\u001b[0m\u001b[37m\u001b[0m \u001b[1m1s\u001b[0m 29ms/step - accuracy: 0.6446 - loss: 1.5858 - val_accuracy: 0.3846 - val_loss: 2.1714\n",
            "Epoch 8/30\n",
            "\u001b[1m12/12\u001b[0m \u001b[32m━━━━━━━━━━━━━━━━━━━━\u001b[0m\u001b[37m\u001b[0m \u001b[1m1s\u001b[0m 27ms/step - accuracy: 0.6380 - loss: 1.4601 - val_accuracy: 0.3626 - val_loss: 2.1693\n",
            "Epoch 9/30\n",
            "\u001b[1m12/12\u001b[0m \u001b[32m━━━━━━━━━━━━━━━━━━━━\u001b[0m\u001b[37m\u001b[0m \u001b[1m0s\u001b[0m 28ms/step - accuracy: 0.7245 - loss: 1.3736 - val_accuracy: 0.3736 - val_loss: 2.1968\n",
            "Epoch 10/30\n",
            "\u001b[1m12/12\u001b[0m \u001b[32m━━━━━━━━━━━━━━━━━━━━\u001b[0m\u001b[37m\u001b[0m \u001b[1m0s\u001b[0m 26ms/step - accuracy: 0.7662 - loss: 1.3274 - val_accuracy: 0.3956 - val_loss: 2.2334\n",
            "Epoch 11/30\n",
            "\u001b[1m12/12\u001b[0m \u001b[32m━━━━━━━━━━━━━━━━━━━━\u001b[0m\u001b[37m\u001b[0m \u001b[1m1s\u001b[0m 30ms/step - accuracy: 0.8310 - loss: 1.1881 - val_accuracy: 0.4176 - val_loss: 2.2497\n",
            "Epoch 12/30\n",
            "\u001b[1m12/12\u001b[0m \u001b[32m━━━━━━━━━━━━━━━━━━━━\u001b[0m\u001b[37m\u001b[0m \u001b[1m1s\u001b[0m 19ms/step - accuracy: 0.8363 - loss: 1.1091 - val_accuracy: 0.3736 - val_loss: 2.3054\n",
            "Epoch 13/30\n",
            "\u001b[1m12/12\u001b[0m \u001b[32m━━━━━━━━━━━━━━━━━━━━\u001b[0m\u001b[37m\u001b[0m \u001b[1m0s\u001b[0m 18ms/step - accuracy: 0.8565 - loss: 1.1025 - val_accuracy: 0.4066 - val_loss: 2.3475\n",
            "\u001b[1m3/3\u001b[0m \u001b[32m━━━━━━━━━━━━━━━━━━━━\u001b[0m\u001b[37m\u001b[0m \u001b[1m0s\u001b[0m 50ms/step\n",
            "Epoch 1/30\n"
          ]
        },
        {
          "output_type": "stream",
          "name": "stderr",
          "text": [
            "/usr/local/lib/python3.11/dist-packages/keras/src/layers/core/dense.py:87: UserWarning: Do not pass an `input_shape`/`input_dim` argument to a layer. When using Sequential models, prefer using an `Input(shape)` object as the first layer in the model instead.\n",
            "  super().__init__(activity_regularizer=activity_regularizer, **kwargs)\n"
          ]
        },
        {
          "output_type": "stream",
          "name": "stdout",
          "text": [
            "\u001b[1m12/12\u001b[0m \u001b[32m━━━━━━━━━━━━━━━━━━━━\u001b[0m\u001b[37m\u001b[0m \u001b[1m3s\u001b[0m 43ms/step - accuracy: 0.2368 - loss: 2.9832 - val_accuracy: 0.3077 - val_loss: 2.3345\n",
            "Epoch 2/30\n",
            "\u001b[1m12/12\u001b[0m \u001b[32m━━━━━━━━━━━━━━━━━━━━\u001b[0m\u001b[37m\u001b[0m \u001b[1m0s\u001b[0m 18ms/step - accuracy: 0.3130 - loss: 2.3645 - val_accuracy: 0.3407 - val_loss: 2.2257\n",
            "Epoch 3/30\n",
            "\u001b[1m12/12\u001b[0m \u001b[32m━━━━━━━━━━━━━━━━━━━━\u001b[0m\u001b[37m\u001b[0m \u001b[1m0s\u001b[0m 21ms/step - accuracy: 0.4476 - loss: 2.0717 - val_accuracy: 0.3846 - val_loss: 2.1787\n",
            "Epoch 4/30\n",
            "\u001b[1m12/12\u001b[0m \u001b[32m━━━━━━━━━━━━━━━━━━━━\u001b[0m\u001b[37m\u001b[0m \u001b[1m0s\u001b[0m 18ms/step - accuracy: 0.4905 - loss: 1.9240 - val_accuracy: 0.3736 - val_loss: 2.1701\n",
            "Epoch 5/30\n",
            "\u001b[1m12/12\u001b[0m \u001b[32m━━━━━━━━━━━━━━━━━━━━\u001b[0m\u001b[37m\u001b[0m \u001b[1m0s\u001b[0m 18ms/step - accuracy: 0.5375 - loss: 1.7937 - val_accuracy: 0.3516 - val_loss: 2.1983\n",
            "Epoch 6/30\n",
            "\u001b[1m12/12\u001b[0m \u001b[32m━━━━━━━━━━━━━━━━━━━━\u001b[0m\u001b[37m\u001b[0m \u001b[1m0s\u001b[0m 18ms/step - accuracy: 0.6061 - loss: 1.6542 - val_accuracy: 0.3297 - val_loss: 2.2305\n",
            "Epoch 7/30\n",
            "\u001b[1m12/12\u001b[0m \u001b[32m━━━━━━━━━━━━━━━━━━━━\u001b[0m\u001b[37m\u001b[0m \u001b[1m0s\u001b[0m 22ms/step - accuracy: 0.7113 - loss: 1.4563 - val_accuracy: 0.3407 - val_loss: 2.2582\n",
            "Epoch 8/30\n",
            "\u001b[1m12/12\u001b[0m \u001b[32m━━━━━━━━━━━━━━━━━━━━\u001b[0m\u001b[37m\u001b[0m \u001b[1m0s\u001b[0m 17ms/step - accuracy: 0.7196 - loss: 1.4039 - val_accuracy: 0.3187 - val_loss: 2.3147\n",
            "Epoch 9/30\n",
            "\u001b[1m12/12\u001b[0m \u001b[32m━━━━━━━━━━━━━━━━━━━━\u001b[0m\u001b[37m\u001b[0m \u001b[1m0s\u001b[0m 18ms/step - accuracy: 0.7041 - loss: 1.4074 - val_accuracy: 0.3626 - val_loss: 2.2925\n",
            "\u001b[1m3/3\u001b[0m \u001b[32m━━━━━━━━━━━━━━━━━━━━\u001b[0m\u001b[37m\u001b[0m \u001b[1m0s\u001b[0m 48ms/step\n",
            "Epoch 1/30\n"
          ]
        },
        {
          "output_type": "stream",
          "name": "stderr",
          "text": [
            "/usr/local/lib/python3.11/dist-packages/keras/src/layers/core/dense.py:87: UserWarning: Do not pass an `input_shape`/`input_dim` argument to a layer. When using Sequential models, prefer using an `Input(shape)` object as the first layer in the model instead.\n",
            "  super().__init__(activity_regularizer=activity_regularizer, **kwargs)\n"
          ]
        },
        {
          "output_type": "stream",
          "name": "stdout",
          "text": [
            "\u001b[1m12/12\u001b[0m \u001b[32m━━━━━━━━━━━━━━━━━━━━\u001b[0m\u001b[37m\u001b[0m \u001b[1m3s\u001b[0m 57ms/step - accuracy: 0.2307 - loss: 2.7763 - val_accuracy: 0.2747 - val_loss: 2.4539\n",
            "Epoch 2/30\n",
            "\u001b[1m12/12\u001b[0m \u001b[32m━━━━━━━━━━━━━━━━━━━━\u001b[0m\u001b[37m\u001b[0m \u001b[1m1s\u001b[0m 30ms/step - accuracy: 0.3822 - loss: 2.2963 - val_accuracy: 0.2747 - val_loss: 2.4008\n",
            "Epoch 3/30\n",
            "\u001b[1m12/12\u001b[0m \u001b[32m━━━━━━━━━━━━━━━━━━━━\u001b[0m\u001b[37m\u001b[0m \u001b[1m1s\u001b[0m 26ms/step - accuracy: 0.4285 - loss: 1.9935 - val_accuracy: 0.2747 - val_loss: 2.4104\n",
            "Epoch 4/30\n",
            "\u001b[1m12/12\u001b[0m \u001b[32m━━━━━━━━━━━━━━━━━━━━\u001b[0m\u001b[37m\u001b[0m \u001b[1m1s\u001b[0m 27ms/step - accuracy: 0.5367 - loss: 1.7800 - val_accuracy: 0.2527 - val_loss: 2.4218\n",
            "Epoch 5/30\n",
            "\u001b[1m12/12\u001b[0m \u001b[32m━━━━━━━━━━━━━━━━━━━━\u001b[0m\u001b[37m\u001b[0m \u001b[1m1s\u001b[0m 29ms/step - accuracy: 0.5851 - loss: 1.7035 - val_accuracy: 0.2747 - val_loss: 2.3534\n",
            "Epoch 6/30\n",
            "\u001b[1m12/12\u001b[0m \u001b[32m━━━━━━━━━━━━━━━━━━━━\u001b[0m\u001b[37m\u001b[0m \u001b[1m0s\u001b[0m 18ms/step - accuracy: 0.6753 - loss: 1.5602 - val_accuracy: 0.3187 - val_loss: 2.3297\n",
            "Epoch 7/30\n",
            "\u001b[1m12/12\u001b[0m \u001b[32m━━━━━━━━━━━━━━━━━━━━\u001b[0m\u001b[37m\u001b[0m \u001b[1m0s\u001b[0m 18ms/step - accuracy: 0.6605 - loss: 1.5287 - val_accuracy: 0.3187 - val_loss: 2.3283\n",
            "Epoch 8/30\n",
            "\u001b[1m12/12\u001b[0m \u001b[32m━━━━━━━━━━━━━━━━━━━━\u001b[0m\u001b[37m\u001b[0m \u001b[1m0s\u001b[0m 18ms/step - accuracy: 0.7256 - loss: 1.3662 - val_accuracy: 0.3297 - val_loss: 2.3288\n",
            "Epoch 9/30\n",
            "\u001b[1m12/12\u001b[0m \u001b[32m━━━━━━━━━━━━━━━━━━━━\u001b[0m\u001b[37m\u001b[0m \u001b[1m0s\u001b[0m 19ms/step - accuracy: 0.7887 - loss: 1.2664 - val_accuracy: 0.2857 - val_loss: 2.3466\n",
            "Epoch 10/30\n",
            "\u001b[1m12/12\u001b[0m \u001b[32m━━━━━━━━━━━━━━━━━━━━\u001b[0m\u001b[37m\u001b[0m \u001b[1m0s\u001b[0m 18ms/step - accuracy: 0.8353 - loss: 1.1761 - val_accuracy: 0.3077 - val_loss: 2.3987\n",
            "Epoch 11/30\n",
            "\u001b[1m12/12\u001b[0m \u001b[32m━━━━━━━━━━━━━━━━━━━━\u001b[0m\u001b[37m\u001b[0m \u001b[1m0s\u001b[0m 18ms/step - accuracy: 0.7827 - loss: 1.1700 - val_accuracy: 0.3077 - val_loss: 2.4827\n",
            "Epoch 12/30\n",
            "\u001b[1m12/12\u001b[0m \u001b[32m━━━━━━━━━━━━━━━━━━━━\u001b[0m\u001b[37m\u001b[0m \u001b[1m0s\u001b[0m 21ms/step - accuracy: 0.8425 - loss: 1.1342 - val_accuracy: 0.3297 - val_loss: 2.5272\n",
            "\u001b[1m3/3\u001b[0m \u001b[32m━━━━━━━━━━━━━━━━━━━━\u001b[0m\u001b[37m\u001b[0m \u001b[1m0s\u001b[0m 51ms/step\n",
            "\n",
            "Average Classification Report (from Cross-Validation):\n",
            "['              precision    recall  f1-score   support\\n\\n       angry       0.30      0.15      0.20        20\\n       happy       0.27      0.39      0.32        18\\n     nuetral       0.20      0.14      0.17        21\\n         sad       0.26      0.38      0.31        16\\n    suprised       0.17      0.18      0.17        17\\n\\n    accuracy                           0.24        92\\n   macro avg       0.24      0.25      0.23        92\\nweighted avg       0.24      0.24      0.23        92\\n', '              precision    recall  f1-score   support\\n\\n       angry       0.26      0.26      0.26        19\\n       happy       0.50      0.37      0.42        19\\n     nuetral       0.25      0.05      0.08        21\\n         sad       0.24      0.53      0.33        15\\n    suprised       0.15      0.18      0.16        17\\n\\n    accuracy                           0.26        91\\n   macro avg       0.28      0.28      0.25        91\\nweighted avg       0.28      0.26      0.25        91\\n', '              precision    recall  f1-score   support\\n\\n       angry       0.50      0.37      0.42        19\\n       happy       0.39      0.37      0.38        19\\n     nuetral       0.31      0.24      0.27        21\\n         sad       0.20      0.20      0.20        15\\n    suprised       0.39      0.65      0.49        17\\n\\n    accuracy                           0.36        91\\n   macro avg       0.36      0.36      0.35        91\\nweighted avg       0.36      0.36      0.35        91\\n', '              precision    recall  f1-score   support\\n\\n       angry       0.43      0.47      0.45        19\\n       happy       0.21      0.21      0.21        19\\n     nuetral       0.40      0.20      0.27        20\\n         sad       0.38      0.69      0.49        16\\n    suprised       0.50      0.35      0.41        17\\n\\n    accuracy                           0.37        91\\n   macro avg       0.38      0.38      0.37        91\\nweighted avg       0.38      0.37      0.36        91\\n', '              precision    recall  f1-score   support\\n\\n       angry       0.47      0.42      0.44        19\\n       happy       0.30      0.42      0.35        19\\n     nuetral       0.19      0.30      0.23        20\\n         sad       0.30      0.19      0.23        16\\n    suprised       0.80      0.24      0.36        17\\n\\n    accuracy                           0.32        91\\n   macro avg       0.41      0.31      0.32        91\\nweighted avg       0.40      0.32      0.32        91\\n']\n",
            "\n",
            "Evaluating final model on full training data:\n",
            "Epoch 1/30\n"
          ]
        },
        {
          "output_type": "stream",
          "name": "stderr",
          "text": [
            "/usr/local/lib/python3.11/dist-packages/keras/src/layers/core/dense.py:87: UserWarning: Do not pass an `input_shape`/`input_dim` argument to a layer. When using Sequential models, prefer using an `Input(shape)` object as the first layer in the model instead.\n",
            "  super().__init__(activity_regularizer=activity_regularizer, **kwargs)\n"
          ]
        },
        {
          "output_type": "stream",
          "name": "stdout",
          "text": [
            "\u001b[1m13/13\u001b[0m \u001b[32m━━━━━━━━━━━━━━━━━━━━\u001b[0m\u001b[37m\u001b[0m \u001b[1m4s\u001b[0m 40ms/step - accuracy: 0.1894 - loss: 2.9420 - val_accuracy: 0.2826 - val_loss: 2.0879\n",
            "Epoch 2/30\n",
            "\u001b[1m13/13\u001b[0m \u001b[32m━━━━━━━━━━━━━━━━━━━━\u001b[0m\u001b[37m\u001b[0m \u001b[1m0s\u001b[0m 20ms/step - accuracy: 0.2848 - loss: 2.3755 - val_accuracy: 0.2826 - val_loss: 2.2999\n",
            "Epoch 3/30\n",
            "\u001b[1m13/13\u001b[0m \u001b[32m━━━━━━━━━━━━━━━━━━━━\u001b[0m\u001b[37m\u001b[0m \u001b[1m0s\u001b[0m 22ms/step - accuracy: 0.4763 - loss: 2.0142 - val_accuracy: 0.2174 - val_loss: 2.4751\n",
            "Epoch 4/30\n",
            "\u001b[1m13/13\u001b[0m \u001b[32m━━━━━━━━━━━━━━━━━━━━\u001b[0m\u001b[37m\u001b[0m \u001b[1m1s\u001b[0m 46ms/step - accuracy: 0.5676 - loss: 1.7483 - val_accuracy: 0.2174 - val_loss: 2.7022\n",
            "Epoch 5/30\n",
            "\u001b[1m13/13\u001b[0m \u001b[32m━━━━━━━━━━━━━━━━━━━━\u001b[0m\u001b[37m\u001b[0m \u001b[1m0s\u001b[0m 28ms/step - accuracy: 0.6218 - loss: 1.6543 - val_accuracy: 0.1304 - val_loss: 2.7597\n",
            "Epoch 6/30\n",
            "\u001b[1m13/13\u001b[0m \u001b[32m━━━━━━━━━━━━━━━━━━━━\u001b[0m\u001b[37m\u001b[0m \u001b[1m1s\u001b[0m 46ms/step - accuracy: 0.6186 - loss: 1.5318 - val_accuracy: 0.0217 - val_loss: 2.9165\n",
            "Epoch 7/30\n",
            "\u001b[1m13/13\u001b[0m \u001b[32m━━━━━━━━━━━━━━━━━━━━\u001b[0m\u001b[37m\u001b[0m \u001b[1m0s\u001b[0m 35ms/step - accuracy: 0.7110 - loss: 1.4380 - val_accuracy: 0.0217 - val_loss: 3.0483\n",
            "Epoch 8/30\n",
            "\u001b[1m13/13\u001b[0m \u001b[32m━━━━━━━━━━━━━━━━━━━━\u001b[0m\u001b[37m\u001b[0m \u001b[1m1s\u001b[0m 32ms/step - accuracy: 0.7061 - loss: 1.4030 - val_accuracy: 0.0217 - val_loss: 3.1798\n",
            "Epoch 9/30\n",
            "\u001b[1m13/13\u001b[0m \u001b[32m━━━━━━━━━━━━━━━━━━━━\u001b[0m\u001b[37m\u001b[0m \u001b[1m1s\u001b[0m 42ms/step - accuracy: 0.7982 - loss: 1.2488 - val_accuracy: 0.0435 - val_loss: 3.1550\n",
            "Epoch 10/30\n",
            "\u001b[1m13/13\u001b[0m \u001b[32m━━━━━━━━━━━━━━━━━━━━\u001b[0m\u001b[37m\u001b[0m \u001b[1m1s\u001b[0m 52ms/step - accuracy: 0.8649 - loss: 1.0985 - val_accuracy: 0.0870 - val_loss: 3.2035\n",
            "Epoch 11/30\n",
            "\u001b[1m13/13\u001b[0m \u001b[32m━━━━━━━━━━━━━━━━━━━━\u001b[0m\u001b[37m\u001b[0m \u001b[1m1s\u001b[0m 63ms/step - accuracy: 0.8107 - loss: 1.1214 - val_accuracy: 0.1087 - val_loss: 3.2909\n",
            "Epoch 12/30\n",
            "\u001b[1m13/13\u001b[0m \u001b[32m━━━━━━━━━━━━━━━━━━━━\u001b[0m\u001b[37m\u001b[0m \u001b[1m1s\u001b[0m 75ms/step - accuracy: 0.8827 - loss: 1.0078 - val_accuracy: 0.0652 - val_loss: 3.4925\n",
            "Epoch 13/30\n",
            "\u001b[1m13/13\u001b[0m \u001b[32m━━━━━━━━━━━━━━━━━━━━\u001b[0m\u001b[37m\u001b[0m \u001b[1m1s\u001b[0m 58ms/step - accuracy: 0.9016 - loss: 0.9604 - val_accuracy: 0.0870 - val_loss: 3.5725\n",
            "Epoch 14/30\n",
            "\u001b[1m13/13\u001b[0m \u001b[32m━━━━━━━━━━━━━━━━━━━━\u001b[0m\u001b[37m\u001b[0m \u001b[1m1s\u001b[0m 47ms/step - accuracy: 0.9243 - loss: 0.8841 - val_accuracy: 0.0652 - val_loss: 3.6224\n",
            "Epoch 15/30\n",
            "\u001b[1m13/13\u001b[0m \u001b[32m━━━━━━━━━━━━━━━━━━━━\u001b[0m\u001b[37m\u001b[0m \u001b[1m1s\u001b[0m 34ms/step - accuracy: 0.9255 - loss: 0.8700 - val_accuracy: 0.1087 - val_loss: 3.8009\n",
            "Epoch 16/30\n",
            "\u001b[1m13/13\u001b[0m \u001b[32m━━━━━━━━━━━━━━━━━━━━\u001b[0m\u001b[37m\u001b[0m \u001b[1m1s\u001b[0m 52ms/step - accuracy: 0.9363 - loss: 0.8781 - val_accuracy: 0.0870 - val_loss: 3.9567\n",
            "Epoch 17/30\n",
            "\u001b[1m13/13\u001b[0m \u001b[32m━━━━━━━━━━━━━━━━━━━━\u001b[0m\u001b[37m\u001b[0m \u001b[1m0s\u001b[0m 29ms/step - accuracy: 0.9606 - loss: 0.8052 - val_accuracy: 0.0870 - val_loss: 4.1874\n",
            "Epoch 18/30\n",
            "\u001b[1m13/13\u001b[0m \u001b[32m━━━━━━━━━━━━━━━━━━━━\u001b[0m\u001b[37m\u001b[0m \u001b[1m1s\u001b[0m 56ms/step - accuracy: 0.9389 - loss: 0.8123 - val_accuracy: 0.1087 - val_loss: 4.3359\n",
            "Epoch 19/30\n",
            "\u001b[1m13/13\u001b[0m \u001b[32m━━━━━━━━━━━━━━━━━━━━\u001b[0m\u001b[37m\u001b[0m \u001b[1m1s\u001b[0m 35ms/step - accuracy: 0.9478 - loss: 0.7892 - val_accuracy: 0.1087 - val_loss: 4.3465\n",
            "Epoch 20/30\n",
            "\u001b[1m13/13\u001b[0m \u001b[32m━━━━━━━━━━━━━━━━━━━━\u001b[0m\u001b[37m\u001b[0m \u001b[1m1s\u001b[0m 37ms/step - accuracy: 0.9365 - loss: 0.7976 - val_accuracy: 0.1304 - val_loss: 4.4196\n",
            "Epoch 21/30\n",
            "\u001b[1m13/13\u001b[0m \u001b[32m━━━━━━━━━━━━━━━━━━━━\u001b[0m\u001b[37m\u001b[0m \u001b[1m0s\u001b[0m 18ms/step - accuracy: 0.9551 - loss: 0.7790 - val_accuracy: 0.1522 - val_loss: 4.4214\n",
            "Epoch 22/30\n",
            "\u001b[1m13/13\u001b[0m \u001b[32m━━━━━━━━━━━━━━━━━━━━\u001b[0m\u001b[37m\u001b[0m \u001b[1m0s\u001b[0m 17ms/step - accuracy: 0.9478 - loss: 0.7641 - val_accuracy: 0.1087 - val_loss: 4.5269\n",
            "Epoch 23/30\n",
            "\u001b[1m13/13\u001b[0m \u001b[32m━━━━━━━━━━━━━━━━━━━━\u001b[0m\u001b[37m\u001b[0m \u001b[1m0s\u001b[0m 17ms/step - accuracy: 0.9819 - loss: 0.6951 - val_accuracy: 0.1087 - val_loss: 4.6468\n",
            "Epoch 24/30\n",
            "\u001b[1m13/13\u001b[0m \u001b[32m━━━━━━━━━━━━━━━━━━━━\u001b[0m\u001b[37m\u001b[0m \u001b[1m0s\u001b[0m 20ms/step - accuracy: 0.9527 - loss: 0.7764 - val_accuracy: 0.1087 - val_loss: 4.8390\n",
            "Epoch 25/30\n",
            "\u001b[1m13/13\u001b[0m \u001b[32m━━━━━━━━━━━━━━━━━━━━\u001b[0m\u001b[37m\u001b[0m \u001b[1m0s\u001b[0m 20ms/step - accuracy: 0.9491 - loss: 0.7732 - val_accuracy: 0.0870 - val_loss: 5.1245\n",
            "Epoch 26/30\n",
            "\u001b[1m13/13\u001b[0m \u001b[32m━━━━━━━━━━━━━━━━━━━━\u001b[0m\u001b[37m\u001b[0m \u001b[1m0s\u001b[0m 17ms/step - accuracy: 0.9669 - loss: 0.7003 - val_accuracy: 0.0870 - val_loss: 5.0998\n",
            "Epoch 27/30\n",
            "\u001b[1m13/13\u001b[0m \u001b[32m━━━━━━━━━━━━━━━━━━━━\u001b[0m\u001b[37m\u001b[0m \u001b[1m0s\u001b[0m 20ms/step - accuracy: 0.9841 - loss: 0.6788 - val_accuracy: 0.0870 - val_loss: 5.1394\n",
            "Epoch 28/30\n",
            "\u001b[1m13/13\u001b[0m \u001b[32m━━━━━━━━━━━━━━━━━━━━\u001b[0m\u001b[37m\u001b[0m \u001b[1m0s\u001b[0m 21ms/step - accuracy: 0.9785 - loss: 0.6915 - val_accuracy: 0.1087 - val_loss: 5.2281\n",
            "Epoch 29/30\n",
            "\u001b[1m13/13\u001b[0m \u001b[32m━━━━━━━━━━━━━━━━━━━━\u001b[0m\u001b[37m\u001b[0m \u001b[1m0s\u001b[0m 17ms/step - accuracy: 0.9805 - loss: 0.6719 - val_accuracy: 0.1087 - val_loss: 5.2515\n",
            "Epoch 30/30\n",
            "\u001b[1m13/13\u001b[0m \u001b[32m━━━━━━━━━━━━━━━━━━━━\u001b[0m\u001b[37m\u001b[0m \u001b[1m0s\u001b[0m 17ms/step - accuracy: 0.9688 - loss: 0.7074 - val_accuracy: 0.1087 - val_loss: 5.1104\n",
            "\u001b[1m15/15\u001b[0m \u001b[32m━━━━━━━━━━━━━━━━━━━━\u001b[0m\u001b[37m\u001b[0m \u001b[1m0s\u001b[0m 10ms/step\n",
            "              precision    recall  f1-score   support\n",
            "\n",
            "       angry       0.88      1.00      0.94        96\n",
            "       happy       0.92      1.00      0.96        94\n",
            "     nuetral       0.94      1.00      0.97       103\n",
            "         sad       0.86      1.00      0.92        78\n",
            "    suprised       1.00      0.52      0.68        85\n",
            "\n",
            "    accuracy                           0.91       456\n",
            "   macro avg       0.92      0.90      0.89       456\n",
            "weighted avg       0.92      0.91      0.90       456\n",
            "\n",
            "\n",
            "Evaluating final model on testing data:\n",
            "\u001b[1m6/6\u001b[0m \u001b[32m━━━━━━━━━━━━━━━━━━━━\u001b[0m\u001b[37m\u001b[0m \u001b[1m0s\u001b[0m 6ms/step \n",
            "              precision    recall  f1-score   support\n",
            "\n",
            "       angry       0.85      1.00      0.92        39\n",
            "       happy       0.93      1.00      0.96        38\n",
            "     nuetral       0.93      1.00      0.96        41\n",
            "         sad       0.82      1.00      0.90        31\n",
            "    suprised       1.00      0.41      0.58        34\n",
            "\n",
            "    accuracy                           0.89       183\n",
            "   macro avg       0.90      0.88      0.87       183\n",
            "weighted avg       0.91      0.89      0.87       183\n",
            "\n"
          ]
        },
        {
          "output_type": "display_data",
          "data": {
            "text/plain": [
              "<Figure size 1000x400 with 1 Axes>"
            ],
            "image/png": "[encoded data removed]"
          },
          "metadata": {}
        },
        {
          "output_type": "display_data",
          "data": {
            "text/plain": [
              "<Figure size 1000x400 with 1 Axes>"
            ],
            "image/png": "[encoded data removed]"
          },
          "metadata": {}
        },
        {
          "output_type": "display_data",
          "data": {
            "text/plain": [
              "<Figure size 800x600 with 2 Axes>"
            ],
            "image/png": "[encoded data removed]"
          },
          "metadata": {}
        },
        {
          "output_type": "display_data",
          "data": {
            "text/plain": [
              "<Figure size 800x600 with 2 Axes>"
            ],
            "image/png": "[encoded data removed]"
          },
          "metadata": {}
        }
      ]
    },
    {
      "cell_type": "code",
      "source": [
        "model.summary()"
      ],
      "metadata": {
        "id": "Gz_0n8aoJMZW",
        "colab": {
          "base_uri": "https://localhost:8080/",
          "height": 465
        },
        "outputId": "c517d235-4ca1-45d0-9329-becc2ee87c2b"
      },
      "execution_count": 20,
      "outputs": [
        {
          "output_type": "display_data",
          "data": {
            "text/plain": [
              "\u001b[1mModel: \"sequential_73\"\u001b[0m\n"
            ],
            "text/html": [
              "<pre style=\"white-space:pre;overflow-x:auto;line-height:normal;font-family:Menlo,'DejaVu Sans Mono',consolas,'Courier New',monospace\"><span style=\"font-weight: bold\">Model: \"sequential_73\"</span>\n",
              "</pre>\n"
            ]
          },
          "metadata": {}
        },
        {
          "output_type": "display_data",
          "data": {
            "text/plain": [
              "┏━━━━━━━━━━━━━━━━━━━━━━━━━━━━━━━━━┳━━━━━━━━━━━━━━━━━━━━━━━━┳━━━━━━━━━━━━━━━┓\n",
              "┃\u001b[1m \u001b[0m\u001b[1mLayer (type)                   \u001b[0m\u001b[1m \u001b[0m┃\u001b[1m \u001b[0m\u001b[1mOutput Shape          \u001b[0m\u001b[1m \u001b[0m┃\u001b[1m \u001b[0m\u001b[1m      Param #\u001b[0m\u001b[1m \u001b[0m┃\n",
              "┡━━━━━━━━━━━━━━━━━━━━━━━━━━━━━━━━━╇━━━━━━━━━━━━━━━━━━━━━━━━╇━━━━━━━━━━━━━━━┩\n",
              "│ dense_285 (\u001b[38;5;33mDense\u001b[0m)               │ (\u001b[38;5;45mNone\u001b[0m, \u001b[38;5;34m256\u001b[0m)            │       \u001b[38;5;34m516,352\u001b[0m │\n",
              "├─────────────────────────────────┼────────────────────────┼───────────────┤\n",
              "│ batch_normalization_132         │ (\u001b[38;5;45mNone\u001b[0m, \u001b[38;5;34m256\u001b[0m)            │         \u001b[38;5;34m1,024\u001b[0m │\n",
              "│ (\u001b[38;5;33mBatchNormalization\u001b[0m)            │                        │               │\n",
              "├─────────────────────────────────┼────────────────────────┼───────────────┤\n",
              "│ dropout_212 (\u001b[38;5;33mDropout\u001b[0m)           │ (\u001b[38;5;45mNone\u001b[0m, \u001b[38;5;34m256\u001b[0m)            │             \u001b[38;5;34m0\u001b[0m │\n",
              "├─────────────────────────────────┼────────────────────────┼───────────────┤\n",
              "│ dense_286 (\u001b[38;5;33mDense\u001b[0m)               │ (\u001b[38;5;45mNone\u001b[0m, \u001b[38;5;34m128\u001b[0m)            │        \u001b[38;5;34m32,896\u001b[0m │\n",
              "├─────────────────────────────────┼────────────────────────┼───────────────┤\n",
              "│ batch_normalization_133         │ (\u001b[38;5;45mNone\u001b[0m, \u001b[38;5;34m128\u001b[0m)            │           \u001b[38;5;34m512\u001b[0m │\n",
              "│ (\u001b[38;5;33mBatchNormalization\u001b[0m)            │                        │               │\n",
              "├─────────────────────────────────┼────────────────────────┼───────────────┤\n",
              "│ dropout_213 (\u001b[38;5;33mDropout\u001b[0m)           │ (\u001b[38;5;45mNone\u001b[0m, \u001b[38;5;34m128\u001b[0m)            │             \u001b[38;5;34m0\u001b[0m │\n",
              "├─────────────────────────────────┼────────────────────────┼───────────────┤\n",
              "│ dense_287 (\u001b[38;5;33mDense\u001b[0m)               │ (\u001b[38;5;45mNone\u001b[0m, \u001b[38;5;34m64\u001b[0m)             │         \u001b[38;5;34m8,256\u001b[0m │\n",
              "├─────────────────────────────────┼────────────────────────┼───────────────┤\n",
              "│ dropout_214 (\u001b[38;5;33mDropout\u001b[0m)           │ (\u001b[38;5;45mNone\u001b[0m, \u001b[38;5;34m64\u001b[0m)             │             \u001b[38;5;34m0\u001b[0m │\n",
              "├─────────────────────────────────┼────────────────────────┼───────────────┤\n",
              "│ dense_288 (\u001b[38;5;33mDense\u001b[0m)               │ (\u001b[38;5;45mNone\u001b[0m, \u001b[38;5;34m5\u001b[0m)              │           \u001b[38;5;34m325\u001b[0m │\n",
              "└─────────────────────────────────┴────────────────────────┴───────────────┘\n"
            ],
            "text/html": [
              "<pre style=\"white-space:pre;overflow-x:auto;line-height:normal;font-family:Menlo,'DejaVu Sans Mono',consolas,'Courier New',monospace\">┏━━━━━━━━━━━━━━━━━━━━━━━━━━━━━━━━━┳━━━━━━━━━━━━━━━━━━━━━━━━┳━━━━━━━━━━━━━━━┓\n",
              "┃<span style=\"font-weight: bold\"> Layer (type)                    </span>┃<span style=\"font-weight: bold\"> Output Shape           </span>┃<span style=\"font-weight: bold\">       Param # </span>┃\n",
              "┡━━━━━━━━━━━━━━━━━━━━━━━━━━━━━━━━━╇━━━━━━━━━━━━━━━━━━━━━━━━╇━━━━━━━━━━━━━━━┩\n",
              "│ dense_285 (<span style=\"color: #0087ff; text-decoration-color: #0087ff\">Dense</span>)               │ (<span style=\"color: #00d7ff; text-decoration-color: #00d7ff\">None</span>, <span style=\"color: #00af00; text-decoration-color: #00af00\">256</span>)            │       <span style=\"color: #00af00; text-decoration-color: #00af00\">516,352</span> │\n",
              "├─────────────────────────────────┼────────────────────────┼───────────────┤\n",
              "│ batch_normalization_132         │ (<span style=\"color: #00d7ff; text-decoration-color: #00d7ff\">None</span>, <span style=\"color: #00af00; text-decoration-color: #00af00\">256</span>)            │         <span style=\"color: #00af00; text-decoration-color: #00af00\">1,024</span> │\n",
              "│ (<span style=\"color: #0087ff; text-decoration-color: #0087ff\">BatchNormalization</span>)            │                        │               │\n",
              "├─────────────────────────────────┼────────────────────────┼───────────────┤\n",
              "│ dropout_212 (<span style=\"color: #0087ff; text-decoration-color: #0087ff\">Dropout</span>)           │ (<span style=\"color: #00d7ff; text-decoration-color: #00d7ff\">None</span>, <span style=\"color: #00af00; text-decoration-color: #00af00\">256</span>)            │             <span style=\"color: #00af00; text-decoration-color: #00af00\">0</span> │\n",
              "├─────────────────────────────────┼────────────────────────┼───────────────┤\n",
              "│ dense_286 (<span style=\"color: #0087ff; text-decoration-color: #0087ff\">Dense</span>)               │ (<span style=\"color: #00d7ff; text-decoration-color: #00d7ff\">None</span>, <span style=\"color: #00af00; text-decoration-color: #00af00\">128</span>)            │        <span style=\"color: #00af00; text-decoration-color: #00af00\">32,896</span> │\n",
              "├─────────────────────────────────┼────────────────────────┼───────────────┤\n",
              "│ batch_normalization_133         │ (<span style=\"color: #00d7ff; text-decoration-color: #00d7ff\">None</span>, <span style=\"color: #00af00; text-decoration-color: #00af00\">128</span>)            │           <span style=\"color: #00af00; text-decoration-color: #00af00\">512</span> │\n",
              "│ (<span style=\"color: #0087ff; text-decoration-color: #0087ff\">BatchNormalization</span>)            │                        │               │\n",
              "├─────────────────────────────────┼────────────────────────┼───────────────┤\n",
              "│ dropout_213 (<span style=\"color: #0087ff; text-decoration-color: #0087ff\">Dropout</span>)           │ (<span style=\"color: #00d7ff; text-decoration-color: #00d7ff\">None</span>, <span style=\"color: #00af00; text-decoration-color: #00af00\">128</span>)            │             <span style=\"color: #00af00; text-decoration-color: #00af00\">0</span> │\n",
              "├─────────────────────────────────┼────────────────────────┼───────────────┤\n",
              "│ dense_287 (<span style=\"color: #0087ff; text-decoration-color: #0087ff\">Dense</span>)               │ (<span style=\"color: #00d7ff; text-decoration-color: #00d7ff\">None</span>, <span style=\"color: #00af00; text-decoration-color: #00af00\">64</span>)             │         <span style=\"color: #00af00; text-decoration-color: #00af00\">8,256</span> │\n",
              "├─────────────────────────────────┼────────────────────────┼───────────────┤\n",
              "│ dropout_214 (<span style=\"color: #0087ff; text-decoration-color: #0087ff\">Dropout</span>)           │ (<span style=\"color: #00d7ff; text-decoration-color: #00d7ff\">None</span>, <span style=\"color: #00af00; text-decoration-color: #00af00\">64</span>)             │             <span style=\"color: #00af00; text-decoration-color: #00af00\">0</span> │\n",
              "├─────────────────────────────────┼────────────────────────┼───────────────┤\n",
              "│ dense_288 (<span style=\"color: #0087ff; text-decoration-color: #0087ff\">Dense</span>)               │ (<span style=\"color: #00d7ff; text-decoration-color: #00d7ff\">None</span>, <span style=\"color: #00af00; text-decoration-color: #00af00\">5</span>)              │           <span style=\"color: #00af00; text-decoration-color: #00af00\">325</span> │\n",
              "└─────────────────────────────────┴────────────────────────┴───────────────┘\n",
              "</pre>\n"
            ]
          },
          "metadata": {}
        },
        {
          "output_type": "display_data",
          "data": {
            "text/plain": [
              "\u001b[1m Total params: \u001b[0m\u001b[38;5;34m1,676,561\u001b[0m (6.40 MB)\n"
            ],
            "text/html": [
              "<pre style=\"white-space:pre;overflow-x:auto;line-height:normal;font-family:Menlo,'DejaVu Sans Mono',consolas,'Courier New',monospace\"><span style=\"font-weight: bold\"> Total params: </span><span style=\"color: #00af00; text-decoration-color: #00af00\">1,676,561</span> (6.40 MB)\n",
              "</pre>\n"
            ]
          },
          "metadata": {}
        },
        {
          "output_type": "display_data",
          "data": {
            "text/plain": [
              "\u001b[1m Trainable params: \u001b[0m\u001b[38;5;34m558,597\u001b[0m (2.13 MB)\n"
            ],
            "text/html": [
              "<pre style=\"white-space:pre;overflow-x:auto;line-height:normal;font-family:Menlo,'DejaVu Sans Mono',consolas,'Courier New',monospace\"><span style=\"font-weight: bold\"> Trainable params: </span><span style=\"color: #00af00; text-decoration-color: #00af00\">558,597</span> (2.13 MB)\n",
              "</pre>\n"
            ]
          },
          "metadata": {}
        },
        {
          "output_type": "display_data",
          "data": {
            "text/plain": [
              "\u001b[1m Non-trainable params: \u001b[0m\u001b[38;5;34m768\u001b[0m (3.00 KB)\n"
            ],
            "text/html": [
              "<pre style=\"white-space:pre;overflow-x:auto;line-height:normal;font-family:Menlo,'DejaVu Sans Mono',consolas,'Courier New',monospace\"><span style=\"font-weight: bold\"> Non-trainable params: </span><span style=\"color: #00af00; text-decoration-color: #00af00\">768</span> (3.00 KB)\n",
              "</pre>\n"
            ]
          },
          "metadata": {}
        },
        {
          "output_type": "display_data",
          "data": {
            "text/plain": [
              "\u001b[1m Optimizer params: \u001b[0m\u001b[38;5;34m1,117,196\u001b[0m (4.26 MB)\n"
            ],
            "text/html": [
              "<pre style=\"white-space:pre;overflow-x:auto;line-height:normal;font-family:Menlo,'DejaVu Sans Mono',consolas,'Courier New',monospace\"><span style=\"font-weight: bold\"> Optimizer params: </span><span style=\"color: #00af00; text-decoration-color: #00af00\">1,117,196</span> (4.26 MB)\n",
              "</pre>\n"
            ]
          },
          "metadata": {}
        }
      ]
    },
    {
      "cell_type": "code",
      "source": [],
      "metadata": {
        "id": "RZoeMbkxnxDk"
      },
      "execution_count": null,
      "outputs": []
    }
  ]
}